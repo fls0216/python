{
 "cells": [
  {
   "cell_type": "markdown",
   "metadata": {},
   "source": [
    "## 네이버 금융에서 환율 정보 추출하기"
   ]
  },
  {
   "cell_type": "code",
   "execution_count": 1,
   "metadata": {},
   "outputs": [
    {
     "name": "stdout",
     "output_type": "stream",
     "text": [
      "usd/krw 1,189.50\n"
     ]
    }
   ],
   "source": [
    "from bs4 import BeautifulSoup\n",
    "import urllib.request as req\n",
    "\n",
    "url = 'https://finance.naver.com/marketindex/'\n",
    "res = req.urlopen(url)\n",
    "\n",
    "soup = BeautifulSoup(res, 'html.parser')\n",
    "\n",
    "price = soup.select_one('div.head_info > span.value').string\n",
    "print('usd/krw', price)"
   ]
  },
  {
   "cell_type": "markdown",
   "metadata": {},
   "source": [
    "## 위키 문헌에 공개돼 있는 이상 작가 작품 목록 가져오기"
   ]
  },
  {
   "cell_type": "code",
   "execution_count": 2,
   "metadata": {},
   "outputs": [
    {
     "name": "stdout",
     "output_type": "stream",
     "text": [
      "- 12월 12일\n",
      "- 휴업과 사정\n",
      "- 지도의 암실\n",
      "- 지팽이 역사\n",
      "- 지주회시\n",
      "- 날개\n",
      "- 동해\n",
      "- 봉별기\n",
      "- 황소와 도깨비\n",
      "- 공포의 기록\n",
      "- 종생기\n",
      "- 환시기\n",
      "- 단발\n",
      "- 실화\n",
      "- 김유정론\n",
      "- 조감도\n",
      "- 삼차각설계도\n",
      "- 건축무한육면각체\n",
      "- 오감도\n",
      "- 역단\n",
      "- 위독\n",
      "- 이상한 가역반응\n",
      "- 파편의 경치\n",
      "- ▽의 유희\n",
      "- 수염\n",
      "- BOITEUX BOITEUSE\n",
      "- 공복\n",
      "- 꽃나무\n",
      "- 이런 시\n",
      "- 1933, 6, 1\n",
      "- 거울\n",
      "- 보통기념\n",
      "- 소영위제\n",
      "- 정식\n",
      "- 지비\n",
      "- 지비\n",
      "- 가외가전\n",
      "- 명경\n",
      "- 아침\n",
      "- 1931년\n",
      "- 최후\n",
      "- 내과\n",
      "- 육친의 장\n",
      "- 회한의 장\n",
      "- 골편에 관한 무제\n",
      "- I WED A TOY BRIDE\n",
      "- 파첩\n",
      "- 혈서삼태\n",
      "- 산촌여정\n",
      "- 서망율도\n",
      "- EPIGRAM\n",
      "- 약수\n",
      "- 행복\n",
      "- 19세기식\n",
      "- 추등잡필\n",
      "- 동생 옥희 보아라\n",
      "- 권태\n",
      "- 슬픈 이야기\n",
      "- 문학과 정치\n",
      "- 병상 이후\n",
      "- 동경\n",
      "- 최저낙원\n",
      "- 실낙원\n",
      "- 아름다운 조선말\n",
      "- 시와 소설 편집후기\n",
      "- 편지\n"
     ]
    }
   ],
   "source": [
    "from bs4 import BeautifulSoup\n",
    "import urllib.request as req\n",
    "\n",
    "url = 'https://ko.wikisource.org/wiki/%EC%A0%80%EC%9E%90:%EC%9D%B4%EC%83%81'\n",
    "res = req.urlopen(url)\n",
    "soup = BeautifulSoup(res, 'html.parser')\n",
    "\n",
    "a_list = soup.select('#mw-content-text > div > ul > li > a')\n",
    "\n",
    "for a in a_list:\n",
    "    name = a.string\n",
    "    print('-', name)"
   ]
  },
  {
   "cell_type": "markdown",
   "metadata": {},
   "source": [
    "## 모든 페이지를 한꺼번에 다운받는 프로그램"
   ]
  },
  {
   "cell_type": "code",
   "execution_count": 3,
   "metadata": {},
   "outputs": [
    {
     "name": "stdout",
     "output_type": "stream",
     "text": [
      "mkdir= ./docs.python.org/3.8\n",
      "download= https://docs.python.org/3.8/library\n",
      "analyze_html https://docs.python.org/3.8/library\n",
      "mkdir= ./docs.python.org/_static\n",
      "download= https://docs.python.org/_static/pydoctheme.css\n",
      "download= https://docs.python.org/_static/pygments.css\n"
     ]
    }
   ],
   "source": [
    "from bs4 import BeautifulSoup\n",
    "from urllib.request import *\n",
    "from urllib.parse import *\n",
    "from os import makedirs\n",
    "import os.path, time, re\n",
    "\n",
    "# 이미 처리한 파일인지 확인하기 위한 변수\n",
    "proc_files = {}\n",
    "\n",
    "# HTML 내부에 있는 링크를 추출하는 함수\n",
    "def enum_links(html, base):\n",
    "    soup = BeautifulSoup(html, 'html.parser')\n",
    "    links = soup.select(\"link[rel='stylesheet']\") # CSS\n",
    "    links += soup.select(\"a[href]\")# 링크\n",
    "    result = []\n",
    "    # href 속성을 추출하고, 링크를 절대 경로로 변환해야함\n",
    "    for a in links:\n",
    "        href = a.attrs['href']\n",
    "        url = urljoin(base, href)\n",
    "        result.append(url)\n",
    "    return result\n",
    "\n",
    "# 파일을 다운받고 저장하는 함수\n",
    "def download_file(url):\n",
    "    o = urlparse(url)\n",
    "    savepath = \"./\"+o.netloc+o.path\n",
    "    if re.search(r\"/$\", savepath) : # 폴더라면 index.html\n",
    "        savepath+='index.html'\n",
    "    savedir = os.path.dirname(savepath)\n",
    "    # 모두 다운됐는지 확인\n",
    "    if os.path.exists(savepath): return savepath\n",
    "    # 다운받을 폴더 생성\n",
    "    if not os.path.exists(savedir):\n",
    "        print(\"mkdir=\", savedir)\n",
    "        makedirs(savedir)\n",
    "    # 파일 다운받기\n",
    "    try :\n",
    "        print(\"download=\",url)\n",
    "        urlretrieve(url, savepath)\n",
    "        time.sleep(1)\n",
    "        return savepath\n",
    "    except:\n",
    "        print('다운 실패', url)\n",
    "        return None\n",
    "\n",
    "\n",
    "# HTML을 분석하고 다운받는 함수\n",
    "def analyze_html(url, root_url):\n",
    "    savepath = download_file(url)\n",
    "    if savepath is None : return\n",
    "    if savepath in proc_files : return # 이미 처리됐다면 실행하지 않음\n",
    "    proc_files[savepath] = True\n",
    "    print(\"analyze_html\", url)\n",
    "    # 링크추출\n",
    "    html = open(savepath, \"r\", encoding = \"utf-8\").read()\n",
    "    links = enum_links(html, url)\n",
    "    \n",
    "    for link_url in links:\n",
    "        # 링크가 루트 이외의 경로를 나타낸다면 무시\n",
    "        if link_url.find(root_url) != 0:\n",
    "            if not re.search(r\".css$\", link_url) : continue\n",
    "        # HTML 이라면\n",
    "        if re.search(r\".(html|htm)$\", link_url):\n",
    "            analyze_html(link_url, root_url)\n",
    "            continue\n",
    "        # 기타 파일\n",
    "        download_file(link_url)\n",
    "\n",
    "if __name__ == \"__main__\":\n",
    "    # url에 있는 모든 것 다운받기\n",
    "    url = \"https://docs.python.org/3.8/library\"\n",
    "    analyze_html(url, url)"
   ]
  }
 ],
 "metadata": {
  "kernelspec": {
   "display_name": "Python 3",
   "language": "python",
   "name": "python3"
  },
  "language_info": {
   "codemirror_mode": {
    "name": "ipython",
    "version": 3
   },
   "file_extension": ".py",
   "mimetype": "text/x-python",
   "name": "python",
   "nbconvert_exporter": "python",
   "pygments_lexer": "ipython3",
   "version": "3.7.6"
  }
 },
 "nbformat": 4,
 "nbformat_minor": 4
}
