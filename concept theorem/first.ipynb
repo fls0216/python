{
 "cells": [
  {
   "cell_type": "markdown",
   "metadata": {},
   "source": [
    "# 변수와 자료명\n",
    "## 변수\n",
    "### 특징\n",
    "    - 임시 기억 공간\n",
    "    - 객체를 말한다.\n",
    "    - 별도의 절차 없이 사용 가능\n",
    "    - Date Type을 가리지 않는다.\n",
    "    - 값을 수정할 수 없음. \n",
    "    - 할당한 값을 저장하는 것이 아니라 값이 있는 주소를 저장하므로 할당 값이 변경되는 것이 아니라 주소가 변경되고 새로운 값이 하나더 추가되는 형태"
   ]
  },
  {
   "cell_type": "markdown",
   "metadata": {},
   "source": [
    "#### 문자열 인덱싱, 슬라이싱"
   ]
  },
  {
   "cell_type": "code",
   "execution_count": 1,
   "metadata": {},
   "outputs": [
    {
     "name": "stdout",
     "output_type": "stream",
     "text": [
      "o\n",
      "n\n",
      "o\n",
      "t o o\n",
      "too\n"
     ]
    }
   ],
   "source": [
    "# 인덱싱 :  내가 원하는 위치의 문자를 찾아주는 기능\n",
    "# 문자열의 시작점은 0부터 시작한다.\n",
    "a = \"Life is too short, You need Python\"\n",
    "print(a[10])\n",
    "print(a[-1])\n",
    "print(a[-2])\n",
    "print(a[8], a[9], a[10])\n",
    "print(a[8]+a[9]+a[10])"
   ]
  },
  {
   "cell_type": "code",
   "execution_count": 2,
   "metadata": {},
   "outputs": [
    {
     "name": "stdout",
     "output_type": "stream",
     "text": [
      "Life\n",
      "too\n",
      "Life\n",
      "hon\n",
      "ho\n"
     ]
    }
   ],
   "source": [
    "# slicing : 한구간, 범위의 문자를 찾아준다.\n",
    "print(a[0:4])\n",
    "print(a[8:11])\n",
    "print(a[:4])\n",
    "print(a[31:])\n",
    "print(a[-3:-1])"
   ]
  },
  {
   "cell_type": "code",
   "execution_count": 3,
   "metadata": {},
   "outputs": [
    {
     "name": "stdout",
     "output_type": "stream",
     "text": [
      "안녕하세요 \n",
      " 반갑습니다.\n",
      "------------------------------\n",
      "안녕하세요 \t 반갑습니다.\n",
      "------------------------------\n",
      "\\t 키는 탭키의 기능을 합니다.\n"
     ]
    }
   ],
   "source": [
    "# 특수문자(제어문자) : '\\문자'의 형태로 화면에 나타나지 않는다.\n",
    "# \\n = 줄바꿈\n",
    "# \\t = tap키의 역할\n",
    "# \\ = 이스케이프 문자. 특수문자를 일반문자처럼 출력할 수 있게 해준다.\n",
    "\n",
    "a = \"안녕하세요 \\n 반갑습니다.\"\n",
    "print(a)\n",
    "print(\"-\"*30)\n",
    "\n",
    "b = \"안녕하세요 \\t 반갑습니다.\"\n",
    "print(b)\n",
    "print(\"-\"*30)\n",
    "\n",
    "c=\"\\\\t 키는 탭키의 기능을 합니다.\"\n",
    "print(c)"
   ]
  },
  {
   "cell_type": "markdown",
   "metadata": {},
   "source": [
    "## 자료형\n",
    "## 종류\n",
    "### 기본자료형 : 데이터를 하나씩만 저장하는 형태 수정 불가능\n",
    "    - number : int(정수) , float(실수)\n",
    "    - str : 문자열\n",
    "    - bool : 논리형 , T or F\n",
    "    - 그외 : complex(복소수), function(함수)"
   ]
  },
  {
   "cell_type": "markdown",
   "metadata": {},
   "source": [
    "### 집합(iter)자료형 \n",
    " #### list\n",
    "     - 임의의 객체를 순차적으로 저장하는 집합적 자료형\n",
    "     - 각 값에 대해 인덱스 부여\n",
    "     - 수정이 가능하다.\n",
    "     - []를 사용한다'\n",
    "     - 형식이 다른 데이터를 하나로 묶을 수 있다\n",
    "     - 리스트 연산이 가능하다.(리스트와 리스트 연결)"
   ]
  },
  {
   "cell_type": "code",
   "execution_count": 20,
   "metadata": {},
   "outputs": [
    {
     "name": "stdout",
     "output_type": "stream",
     "text": [
      "[1, 'a', 2, 3, 4, 5, 6, 7, 8, 9, 10]\n",
      "[1, 'a', 2, 3, 4, 5, 6, 7, 8, 9, 10, 'z']\n",
      "[1, 'a', 2, 3, 4, 5, 6, 7, 8, 9, 10, 'z', 'b', 'c', 'd']\n",
      "[0, 1, 5, 6, 8, 9]\n",
      "[1, 2, 3, 4, 5, 6, 7, 8, 9, 10, 'z', 'b', 'c', 'd']\n",
      "[1, 2, 3, 4, 5, 6, 7, 8, 9, 10, 'z', 'b', 'c']\n",
      "[]\n"
     ]
    }
   ],
   "source": [
    "a = [1,2,3,4,5,6,7,8,9,10]\n",
    "\n",
    "# 원하는 위치에 데이터 추가\n",
    "a.insert(1,\"a\")\n",
    "print(a)\n",
    "\n",
    "# 맨 끝에 데이터 추가\n",
    "a.append(\"z\")\n",
    "print(a)\n",
    "\n",
    "# +(리스트 연산)과 같은 역할을 하며 리스트를 확장해서 추가한다.\n",
    "a.extend([\"b\", \"c\", \"d\"])\n",
    "print(a)\n",
    "\n",
    "# 오름차순 정령\n",
    "b = [5,9,8,6,0,1]\n",
    "b.sort()\n",
    "print(b)\n",
    "\n",
    "# 삭제\n",
    "a.remove(\"a\")\n",
    "print(a)\n",
    "\n",
    "# 아에 메모리에서 삭제\n",
    "del b\n",
    "\n",
    "# 스택 형태의 메모리에서 사용하는 함수로 배열의 맨 끝값이 삭제된다.\n",
    "a.pop()\n",
    "print(a)\n",
    "\n",
    "#내용만 삭제되고 형태는 남는다.\n",
    "a.clear()\n",
    "print(a)"
   ]
  },
  {
   "cell_type": "markdown",
   "metadata": {},
   "source": [
    "#### tuple\n",
    "    - list와 거의 동일\n",
    "    - ()를 사용하여 생성\n",
    "    - 수정이 불가능하다.\n",
    "    - packing :  별다른 언급이 없을 경우 자동으로 튜플로 묶어준다."
   ]
  },
  {
   "cell_type": "code",
   "execution_count": 24,
   "metadata": {},
   "outputs": [
    {
     "name": "stdout",
     "output_type": "stream",
     "text": [
      "<class 'tuple'>\n",
      "<class 'tuple'>\n"
     ]
    },
    {
     "ename": "TypeError",
     "evalue": "'tuple' object does not support item assignment",
     "output_type": "error",
     "traceback": [
      "\u001b[1;31m---------------------------------------------------------------------------\u001b[0m",
      "\u001b[1;31mTypeError\u001b[0m                                 Traceback (most recent call last)",
      "\u001b[1;32m<ipython-input-24-d909d8133ece>\u001b[0m in \u001b[0;36m<module>\u001b[1;34m\u001b[0m\n\u001b[0;32m      6\u001b[0m \u001b[0mprint\u001b[0m\u001b[1;33m(\u001b[0m\u001b[0mtype\u001b[0m\u001b[1;33m(\u001b[0m\u001b[0mb\u001b[0m\u001b[1;33m)\u001b[0m\u001b[1;33m)\u001b[0m\u001b[1;33m\u001b[0m\u001b[1;33m\u001b[0m\u001b[0m\n\u001b[0;32m      7\u001b[0m \u001b[1;33m\u001b[0m\u001b[0m\n\u001b[1;32m----> 8\u001b[1;33m \u001b[0ma\u001b[0m\u001b[1;33m[\u001b[0m\u001b[1;36m0\u001b[0m\u001b[1;33m]\u001b[0m \u001b[1;33m=\u001b[0m \u001b[1;36m9\u001b[0m\u001b[1;33m\u001b[0m\u001b[1;33m\u001b[0m\u001b[0m\n\u001b[0m",
      "\u001b[1;31mTypeError\u001b[0m: 'tuple' object does not support item assignment"
     ]
    }
   ],
   "source": [
    "a = (1,2,3,4,5)\n",
    "print(type(a))\n",
    "\n",
    "# () 생략가능\n",
    "b = 1,2,3,4,5\n",
    "print(type(b))\n",
    "\n",
    "# 변경이 불가능하다.\n",
    "a[0] = 9"
   ]
  },
  {
   "cell_type": "markdown",
   "metadata": {},
   "source": [
    "#### dic\n",
    "    - 여러개의 데이터를 하나로 묶을 수 있다.서로 다른 형식의 데이터도 하나로 묶을 수 있다.\n",
    "    - 키와 값, 한 쌍으로 이루어져 있다.\n",
    "    - 키가 인덱스를 대신하기 때문에 인덱스가 없다. = 순서가 없다.\n",
    "    - 수정이 가능하다."
   ]
  },
  {
   "cell_type": "code",
   "execution_count": 32,
   "metadata": {},
   "outputs": [
    {
     "name": "stdout",
     "output_type": "stream",
     "text": [
      "{'기능성': '정밀성', '신뢰성': '성숙성', '사용성': '이해성'} <class 'dict'>\n",
      "정밀성\n",
      "dict_keys(['기능성', '신뢰성', '사용성'])\n",
      "dict_values(['정밀성', '성숙성', '이해성'])\n",
      "dict_items([('기능성', '정밀성'), ('신뢰성', '성숙성'), ('사용성', '이해성')])\n"
     ]
    }
   ],
   "source": [
    "a = {\"기능성\" : \"정밀성\", \"신뢰성\": \"성숙성\", \"사용성\" : \"이해성\"}\n",
    "print(a, type(a))\n",
    "\n",
    "print(a[\"기능성\"])\n",
    "\n",
    "print(a.keys())\n",
    "\n",
    "print(a.values())\n",
    "\n",
    "print(a.items())"
   ]
  },
  {
   "cell_type": "markdown",
   "metadata": {},
   "source": [
    "#### set\n",
    "    - {}를 사용\n",
    "    - 키가 없이 값들로만 이루어진다.\n",
    "    - 순서가 없다= 인덱스가 없다.\n",
    "    - 실제 사용하는 경우에는 리스트나 튜플로 변경해서 사용해야한다.\n",
    "    - 수정이 불가능하다.\n",
    "    - 중복이 불가능하다."
   ]
  },
  {
   "cell_type": "code",
   "execution_count": 35,
   "metadata": {},
   "outputs": [
    {
     "name": "stdout",
     "output_type": "stream",
     "text": [
      "{1, 2, 3, 4, 5, 6} <class 'set'>\n",
      "{1, 2, 3, 4, 5, 6}\n"
     ]
    }
   ],
   "source": [
    "a = {1,2,3,4,5,6}\n",
    "print(a, type(a))\n",
    "\n",
    "b = {1,1,2,2,3,3,4,4,5,5,6,6}\n",
    "print(b)"
   ]
  },
  {
   "cell_type": "markdown",
   "metadata": {},
   "source": [
    "### 연산자 \n",
    "    - 산술연산자 > 비교연산자> 논리연산자> 대입연산자 순으로 연산된다.\n",
    "#### 산술 연산자"
   ]
  },
  {
   "cell_type": "code",
   "execution_count": 38,
   "metadata": {},
   "outputs": [
    {
     "name": "stdout",
     "output_type": "stream",
     "text": [
      "4.5\n",
      "18\n",
      "aa\n",
      "11\n",
      "7\n",
      "1\n",
      "4\n",
      "81\n"
     ]
    }
   ],
   "source": [
    "# 나누기\n",
    "print(9/2)\n",
    "\n",
    "# 곱하기 or 횟수만큼 반복\n",
    "print(9*2)\n",
    "print(\"a\"*2)\n",
    "\n",
    "#더하기\n",
    "print(9+2)\n",
    "\n",
    "# 빼기\n",
    "print(9-2)\n",
    "\n",
    "# 나머지 구하기\n",
    "print(9%2)\n",
    "\n",
    "# 몫만 구하기\n",
    "print(9//2)\n",
    "\n",
    "#제곱근\n",
    "print(9**2)"
   ]
  },
  {
   "cell_type": "markdown",
   "metadata": {},
   "source": [
    "#### 비교연산자\n",
    "    - 값을 bool형태로 반환해준다."
   ]
  },
  {
   "cell_type": "code",
   "execution_count": 41,
   "metadata": {},
   "outputs": [
    {
     "name": "stdout",
     "output_type": "stream",
     "text": [
      "False\n",
      "True\n",
      "False\n",
      "False\n",
      "True\n",
      "True\n"
     ]
    }
   ],
   "source": [
    "# 같다\n",
    "print(3 == 5)\n",
    "\n",
    "# 크거나 작다.\n",
    "print(3<5)\n",
    "print(3>5)\n",
    "\n",
    "# 크거나 같다 or 작거나 같다.\n",
    "print(3>=5)\n",
    "print(3<=5)\n",
    "\n",
    "# 같지 않다.\n",
    "print(3!=5)"
   ]
  },
  {
   "cell_type": "markdown",
   "metadata": {},
   "source": [
    "#### 논리 연산자\n",
    "    - bool 형식으로 반환되며, 단락 회로 연산자이다."
   ]
  },
  {
   "cell_type": "code",
   "execution_count": 64,
   "metadata": {},
   "outputs": [
    {
     "name": "stdout",
     "output_type": "stream",
     "text": [
      "True\n",
      "False\n",
      "True\n",
      "False\n",
      "False\n",
      "True\n"
     ]
    }
   ],
   "source": [
    "a = 10\n",
    "\n",
    "# 두 조건 모두 만족해야 True 반환\n",
    "print(a>5 and a<11)\n",
    "print(a<5 and a<11)\n",
    "\n",
    "# 두 조건중 한 조건이라도 만족하면  True\n",
    "print(a<5 or a>6)\n",
    "print(a<5 or a>20)\n",
    "\n",
    "# 조건을 만족하지 않으면 True\n",
    "print(not a>6)\n",
    "print(not a>11)"
   ]
  },
  {
   "cell_type": "markdown",
   "metadata": {},
   "source": [
    "#### 대입연산자\n",
    "    - 치환 연산자, 할당 연산자"
   ]
  },
  {
   "cell_type": "code",
   "execution_count": 58,
   "metadata": {},
   "outputs": [
    {
     "name": "stdout",
     "output_type": "stream",
     "text": [
      "10\n",
      "15\n",
      "60\n",
      "30.0\n",
      "2.0\n"
     ]
    }
   ],
   "source": [
    "# 변수에 값 할당\n",
    "a = 10\n",
    "print(a)\n",
    "\n",
    "# 변수에 5 더한후 재 할당하기\n",
    "a += 5\n",
    "print(a)\n",
    "\n",
    "# 변수에 4를 곱한후 재할당\n",
    "a *= 4\n",
    "print(a)\n",
    "\n",
    "# 변수를 2로 나눈 후 재할당\n",
    "a /= 2\n",
    "print(a)\n",
    "\n",
    "# 변수를 5로 나눈 나머지를 할당\n",
    "a %= 7\n",
    "print(a)"
   ]
  },
  {
   "cell_type": "markdown",
   "metadata": {},
   "source": [
    "#### 그외"
   ]
  },
  {
   "cell_type": "code",
   "execution_count": 60,
   "metadata": {},
   "outputs": [
    {
     "name": "stdout",
     "output_type": "stream",
     "text": [
      "True\n",
      "False\n",
      "False\n",
      "True\n"
     ]
    }
   ],
   "source": [
    "# 포함여부 연산자\n",
    "a = [1,2,3,4,5,6]\n",
    "print(1 in a)\n",
    "print(7 in a)\n",
    "print(1 not in a)\n",
    "print(7 not in a)"
   ]
  },
  {
   "cell_type": "code",
   "execution_count": 68,
   "metadata": {},
   "outputs": [
    {
     "name": "stdout",
     "output_type": "stream",
     "text": [
      "True\n",
      "False\n",
      "True\n",
      "False\n",
      "False\n",
      "True\n"
     ]
    }
   ],
   "source": [
    "# 비트 연산자 = 10진수를 2진수로 변환하여 연산해준다.\n",
    "a = 10\n",
    "\n",
    "# and\n",
    "print(a>5 & a<11)\n",
    "print(a>5 & a>11)\n",
    "\n",
    "# or\n",
    "print(a<5 | a>11)\n",
    "print(a>5 | a>11)\n",
    "\n",
    "# xor\n",
    "print(a<5 ^ a>11)\n",
    "print(a>5 ^ a<11)"
   ]
  },
  {
   "cell_type": "markdown",
   "metadata": {},
   "source": [
    "#### 입력기능"
   ]
  },
  {
   "cell_type": "code",
   "execution_count": 72,
   "metadata": {
    "scrolled": true
   },
   "outputs": [
    {
     "name": "stdout",
     "output_type": "stream",
     "text": [
      "c\n",
      "입력하신 값은 :  c\n"
     ]
    }
   ],
   "source": [
    "# input() : 사용자가 실행창에서 입력할 수 있게 해준다.\n",
    "a = input()\n",
    "print(\"입력하신 값은 : \" , a)\n"
   ]
  },
  {
   "cell_type": "markdown",
   "metadata": {},
   "source": [
    "# 예제"
   ]
  },
  {
   "cell_type": "code",
   "execution_count": 1,
   "metadata": {},
   "outputs": [
    {
     "name": "stdout",
     "output_type": "stream",
     "text": [
      "몇 갤런입니까?3\n",
      "3.0갤런은 11.2752리터이다.\n"
     ]
    }
   ],
   "source": [
    "# 두개의 double변수를 이용해서 각각 갤런과 리터값을 저장하고 갤런값을 해당하는 리터값으로 바꿔보자.(1갤런은 3.7584리터이다)\n",
    "\n",
    "a = float(input(\"몇 갤런입니까?\"))\n",
    "b = 3.7584 * a \n",
    "print(\"{0}갤런은 {1}리터이다.\".format(a,b))"
   ]
  },
  {
   "cell_type": "code",
   "execution_count": 2,
   "metadata": {},
   "outputs": [
    {
     "name": "stdout",
     "output_type": "stream",
     "text": [
      "당신의 몸무게는?60\n",
      "달에서의 당신의 몸무게는10.200000000000001kg 입니다.\n"
     ]
    }
   ],
   "source": [
    "#달의 중력은 지구 중력의 17% 정도이다. 달에서의 당신의 체중을 계산하는 프로그램을 작성하라.\n",
    "a= float(input(\"당신의 몸무게는?\"))\n",
    "print(\"달에서의 당신의 몸무게는{0}kg 입니다.\".format(a*(17/100)))"
   ]
  },
  {
   "cell_type": "code",
   "execution_count": 3,
   "metadata": {},
   "outputs": [
    {
     "name": "stdout",
     "output_type": "stream",
     "text": [
      "당신이 번개를 본 시간은?5\n",
      "당신이 천둥소리를 들은 시간은?5\n",
      "번개는 5500.0피트 떨어진 거리에서 발생했습니다.\n"
     ]
    }
   ],
   "source": [
    "# 번개가 얼마나 먼 곳에서 발생했나? \n",
    "a = float(input(\"당신이 번개를 본 시간은?\"))\n",
    "b = float(input(\"당신이 천둥소리를 들은 시간은?\"))\n",
    "c = a*1100\n",
    "print(\"번개는 {0}피트 떨어진 거리에서 발생했습니다.\".format(c))"
   ]
  },
  {
   "cell_type": "code",
   "execution_count": 1,
   "metadata": {},
   "outputs": [
    {
     "name": "stdout",
     "output_type": "stream",
     "text": [
      "값을 입력하십시오 : ㅡ\n",
      "오답입니다.\n"
     ]
    }
   ],
   "source": [
    "# 입력받은 값이 a, b, c, d 이면 '정답' 이라고 출력하고 그렇지 않으면 오답이라고 출력\n",
    "a = input(\"값을 입력하십시오 : \")\n",
    "b = [\"a\",\"b\",\"c\",\"d\"]\n",
    "\n",
    "if a in b : \n",
    "    print(\"정답입니다.\")\n",
    "else : \n",
    "    print(\"오답입니다.\")"
   ]
  },
  {
   "cell_type": "code",
   "execution_count": 4,
   "metadata": {
    "scrolled": true
   },
   "outputs": [
    {
     "name": "stdout",
     "output_type": "stream",
     "text": [
      "교환할 돈은 얼마 입니까? : 5000\n",
      "오백원 짜리 : 10\n",
      "백원짜리 : 0\n",
      "십원짜리 : 0\n",
      "나머지 잔돈 : 0\n"
     ]
    }
   ],
   "source": [
    "#동전 교환 프로그램\n",
    "a = int(input(\"교환할 돈은 얼마 입니까? : \"))\n",
    "\n",
    "b = a%500\n",
    "c = b%100\n",
    "d = c%10\n",
    "print(\"오백원 짜리 : {0}\".format(a//500))\n",
    "print(\"백원짜리 : {0}\".format(b//100))\n",
    "print(\"십원짜리 : {0}\".format(c//10))\n",
    "print(\"나머지 잔돈 : {0}\".format(d))"
   ]
  },
  {
   "cell_type": "markdown",
   "metadata": {},
   "source": [
    "# 교재 연습문제\n",
    "    - 점프 투 파이썬"
   ]
  },
  {
   "cell_type": "code",
   "execution_count": 7,
   "metadata": {},
   "outputs": [
    {
     "name": "stdout",
     "output_type": "stream",
     "text": [
      "19881120\n",
      "1068234\n",
      "1\n"
     ]
    }
   ],
   "source": [
    "# 주민등록번호 881120-1068234를 연월일 부분과 그 뒤 의 숫자부분 그리고 성별을 나타내는 숫자로 나누어서 출력\n",
    "pin = \"881120-1068234\"\n",
    "print(\"19\"+pin[:6])\n",
    "print(pin[7:])\n",
    "\n",
    "print(pin[7])"
   ]
  },
  {
   "cell_type": "code",
   "execution_count": 11,
   "metadata": {},
   "outputs": [
    {
     "name": "stdout",
     "output_type": "stream",
     "text": [
      "a#b#c#d\n"
     ]
    }
   ],
   "source": [
    "# a:b:c:d를 a#b#c#d로 바꿔서 출력\n",
    "a = \"a:b:c:d\"\n",
    "b = a.replace(\":\",\"#\")\n",
    "print(b)"
   ]
  },
  {
   "cell_type": "code",
   "execution_count": 13,
   "metadata": {},
   "outputs": [
    {
     "name": "stdout",
     "output_type": "stream",
     "text": [
      "[1, 2, 3, 4, 5]\n",
      "[5, 4, 3, 2, 1]\n"
     ]
    }
   ],
   "source": [
    "# 순서대로 정렬하기\n",
    "a=[1,3,5,4,2]\n",
    "a.sort()\n",
    "print(a)\n",
    "a.reverse()\n",
    "print(a)"
   ]
  },
  {
   "cell_type": "code",
   "execution_count": 14,
   "metadata": {},
   "outputs": [
    {
     "name": "stdout",
     "output_type": "stream",
     "text": [
      "life is too short\n"
     ]
    }
   ],
   "source": [
    "# 리스트를 문자열로 출력하기\n",
    "a = ['life', 'is', 'too', 'short']\n",
    "result = \" \".join(a)\n",
    "print(result)"
   ]
  },
  {
   "cell_type": "code",
   "execution_count": 15,
   "metadata": {},
   "outputs": [
    {
     "name": "stdout",
     "output_type": "stream",
     "text": [
      "(1, 2, 3, 4)\n"
     ]
    }
   ],
   "source": [
    "# 마지막에 문자 추가하기\n",
    "a = (1,2,3)\n",
    "a= list(a)\n",
    "a.append(4)\n",
    "a = tuple(a)\n",
    "print(a)"
   ]
  },
  {
   "cell_type": "code",
   "execution_count": 17,
   "metadata": {},
   "outputs": [
    {
     "name": "stdout",
     "output_type": "stream",
     "text": [
      "{'A': 90, 'C': 70}\n",
      "80\n"
     ]
    }
   ],
   "source": [
    "# 딕셔너리 a에서 'B'에 해당하는 값 추출\n",
    "a = {'A' : 90, 'B' : 80, 'C' : 70}\n",
    "result = a.pop('B')\n",
    "print(a)\n",
    "print(result)"
   ]
  },
  {
   "cell_type": "code",
   "execution_count": 18,
   "metadata": {},
   "outputs": [
    {
     "name": "stdout",
     "output_type": "stream",
     "text": [
      "[1, 2, 3, 4, 5]\n"
     ]
    }
   ],
   "source": [
    "# 리스트 중복 제거\n",
    "a = [1,1,1,2,2,3,3,3,4,4,5]\n",
    "aset = set(a)\n",
    "b = list(aset)\n",
    "print(b)"
   ]
  }
 ],
 "metadata": {
  "kernelspec": {
   "display_name": "Python 3",
   "language": "python",
   "name": "python3"
  },
  "language_info": {
   "codemirror_mode": {
    "name": "ipython",
    "version": 3
   },
   "file_extension": ".py",
   "mimetype": "text/x-python",
   "name": "python",
   "nbconvert_exporter": "python",
   "pygments_lexer": "ipython3",
   "version": "3.7.6"
  }
 },
 "nbformat": 4,
 "nbformat_minor": 4
}
