{
 "cells": [
  {
   "cell_type": "markdown",
   "metadata": {},
   "source": [
    "## 특징\n",
    "\n",
    "    1. 벡터 및 행렬 연산과 관련된 편리한 기능을 제공한다.\n",
    "    2. 리스트와 거의 동일하지만, numpy 배열의 특징을 갖는다.\n",
    "        - 배열 :  모든 원소가 같은 자료형이여야한다. 원소의 갯수를 바꿀 수 없다.\n",
    "    3. 빠른 속도를 지원\n",
    "    4. 벡터화 연산, 배열 인덱싱을 통한 질의 가능.\n",
    "    5. http://www.numpy.org"
   ]
  },
  {
   "cell_type": "code",
   "execution_count": 1,
   "metadata": {},
   "outputs": [],
   "source": [
    "import numpy as np"
   ]
  },
  {
   "cell_type": "markdown",
   "metadata": {},
   "source": [
    "### 1차원 배열"
   ]
  },
  {
   "cell_type": "code",
   "execution_count": 4,
   "metadata": {},
   "outputs": [
    {
     "name": "stdout",
     "output_type": "stream",
     "text": [
      "[1, 2, 3, 4, 5, 10, 20, '가나다']\n",
      "<class 'list'>\n"
     ]
    }
   ],
   "source": [
    "#list\n",
    "\n",
    "a1 = [1,2,3,4,5,10,20,'가나다']\n",
    "print(a1)\n",
    "print(type(a1))"
   ]
  },
  {
   "cell_type": "code",
   "execution_count": 11,
   "metadata": {},
   "outputs": [
    {
     "name": "stdout",
     "output_type": "stream",
     "text": [
      "['1' '2' '3' '4' '5' '10' '20' '가나다']\n",
      "<class 'numpy.ndarray'>\n",
      "(8,)\n",
      "1\n",
      "8\n"
     ]
    }
   ],
   "source": [
    "# 배열\n",
    "\n",
    "a2 = np.array([1,2,3,4,5,10,20,'가나다'])\n",
    "print(a2)\n",
    "print(type(a2))\n",
    "print(a2.shape) # 배열의 크기를 알려주는 속성\n",
    "print(a2.ndim) # 차원의 갯수를 알려줌.\n",
    "print(len(a2))"
   ]
  },
  {
   "cell_type": "code",
   "execution_count": 19,
   "metadata": {},
   "outputs": [
    {
     "name": "stdout",
     "output_type": "stream",
     "text": [
      "[ 2  4  6  8 10 12 14 16 18]\n",
      "[-1  0  1  2  3  4  5  6  7]\n",
      "[ 3  4  5  6  7  8  9 10 11]\n",
      "1\n"
     ]
    }
   ],
   "source": [
    "# 벡터화 연산\n",
    "\n",
    "# 리스트는 벡터화 연산을 할 수 없음. 하지만 배열의 경우는 가능.\n",
    "\n",
    "data = np.array([1,2,3,4,5,6,7,8,9])\n",
    "\n",
    "print(data*2)\n",
    "print(data-2)\n",
    "print(data+2)\n",
    "print(data[0]) # 인덱스 사용가능"
   ]
  },
  {
   "cell_type": "markdown",
   "metadata": {},
   "source": [
    "### 2차원 배열\n",
    "    여러개의 선형배열을 위아래로 묶어서 테이블 형태로 만듬"
   ]
  },
  {
   "cell_type": "code",
   "execution_count": 22,
   "metadata": {},
   "outputs": [
    {
     "name": "stdout",
     "output_type": "stream",
     "text": [
      "[[0 1 2]\n",
      " [3 4 5]]\n",
      "(2, 3)\n",
      "2\n",
      "--------------------\n",
      "2\n",
      "3\n",
      "1\n"
     ]
    }
   ],
   "source": [
    "arr = np.array([[0,1,2], [3,4,5]])\n",
    "print(arr)\n",
    "\n",
    "print(arr.shape)\n",
    "print(arr.ndim)\n",
    "\n",
    "print('-'*20)\n",
    "\n",
    "print(len(arr)) # 열의 갯수를 반환\n",
    "print(len(arr[0])) # 열의 행의 갯수를 반환해줌\n",
    "\n",
    "print(arr[0][1]) # 2차원 배열은 첫번째 값이 각 열의 주소값을 담고 있으므로 안의 데이터를 찾고 싶을 때는 2번 접근(간접)해서 찾아가야함"
   ]
  },
  {
   "cell_type": "markdown",
   "metadata": {},
   "source": [
    "### 3차원 배열"
   ]
  },
  {
   "cell_type": "code",
   "execution_count": 27,
   "metadata": {},
   "outputs": [
    {
     "name": "stdout",
     "output_type": "stream",
     "text": [
      "[[[ 1  2  3  4]\n",
      "  [ 5  6  7  8]\n",
      "  [ 9 10 11 12]]\n",
      "\n",
      " [[13 14 15 16]\n",
      "  [17 18 19 20]\n",
      "  [21 22 23 24]]]\n",
      "--------------------\n",
      "[[ 1  2  3  4]\n",
      " [ 5  6  7  8]\n",
      " [ 9 10 11 12]]\n",
      "--------------------\n",
      "[1 2 3 4]\n",
      "--------------------\n",
      "1\n",
      "--------------------\n",
      "(2, 3, 4)\n",
      "3\n",
      "2 3 4\n"
     ]
    }
   ],
   "source": [
    "arr = np.array([[[1,2,3,4],[5,6,7,8],[9,10,11,12]],[[13,14,15,16],[17,18,19,20],[21,22,23,24]]])\n",
    "\n",
    "print(arr)\n",
    "print('-'*20)\n",
    "print(arr[0])\n",
    "print('-'*20)\n",
    "print(arr[0][0])\n",
    "print('-'*20)\n",
    "print(arr[0][0][0])\n",
    "print('-'*20)\n",
    "print(arr.shape)\n",
    "print(arr.ndim)\n",
    "print(len(arr), len(arr[0]), len(arr[0][0]))"
   ]
  },
  {
   "cell_type": "markdown",
   "metadata": {},
   "source": [
    "### 배열의 인덱싱"
   ]
  },
  {
   "cell_type": "code",
   "execution_count": 29,
   "metadata": {},
   "outputs": [
    {
     "name": "stdout",
     "output_type": "stream",
     "text": [
      "2 4\n"
     ]
    }
   ],
   "source": [
    "# 1차원 배열\n",
    "\n",
    "arr= np.array([0,1,2,3,4])\n",
    "print(arr[2], arr[-1]) # 리스트와 동일"
   ]
  },
  {
   "cell_type": "code",
   "execution_count": 31,
   "metadata": {},
   "outputs": [
    {
     "name": "stdout",
     "output_type": "stream",
     "text": [
      "2\n",
      "2\n"
     ]
    }
   ],
   "source": [
    "# 2차원 배열\n",
    "\n",
    "arr = np.array([[0,1,2],[3,4,5]])\n",
    "print(arr[0][2]) \n",
    "print(arr[0,2]) # 보통 더 많이 사용 [행, 열]"
   ]
  },
  {
   "cell_type": "code",
   "execution_count": 13,
   "metadata": {},
   "outputs": [
    {
     "name": "stdout",
     "output_type": "stream",
     "text": [
      "[0 2 4 6 8]\n",
      "[0 1 0 1 0 1 0 1 0 1]\n",
      "[ True False  True False  True False  True False  True False]\n",
      "[0 2 4 6 8]\n",
      "--------------------\n",
      "[0 3 6 9]\n",
      "--------------------\n",
      "[1 5 9]\n",
      "--------------------\n",
      "[9]\n"
     ]
    }
   ],
   "source": [
    "# fancy indexing\n",
    "\n",
    "arr = np.array([i for i in range(10)])\n",
    "idx = np.array([True, False,True, False,True, False,True, False,True, False])\n",
    "print(arr[idx])\n",
    "print(arr%2)\n",
    "print(arr%2 == 0)\n",
    "print(arr[arr%2==0]) # 인덱스 값 자체에 연산이 가능\n",
    "print('-'*20)\n",
    "\n",
    "# arr에서 3의 배수 찾기\n",
    "print(arr[arr%3==0])\n",
    "print('-'*20)\n",
    "\n",
    "# arr에서 4로 나누면 1이 남는 수를 찾아라\n",
    "print(arr[arr%4==1])\n",
    "print('-'*20)\n",
    "\n",
    "# arr에서 3으로 나누면 나눠지고 4로나누면 1이 남는 수를 찾아라\n",
    "print((arr[(arr%3==0) & (arr%4==1)]))"
   ]
  },
  {
   "cell_type": "markdown",
   "metadata": {},
   "source": [
    "### 배열의 슬라이싱"
   ]
  },
  {
   "cell_type": "code",
   "execution_count": 53,
   "metadata": {},
   "outputs": [
    {
     "name": "stdout",
     "output_type": "stream",
     "text": [
      "[0 1 2 3]\n",
      "[0 1]\n",
      "[[4 5]\n",
      " [8 9]]\n",
      "[[0 1]\n",
      " [4 5]]\n",
      "[[ 8  9 10 11]\n",
      " [ 4  5  6  7]\n",
      " [ 0  1  2  3]]\n"
     ]
    }
   ],
   "source": [
    "arr = np.array([[0,1,2,3],[4,5,6,7],[8,9,10,11]])\n",
    "print(arr[0,:]) # 0번째 행의 전체를 다 가져오겠다.\n",
    "print(arr[0,0:2])\n",
    "print(arr[1:3,0:2])\n",
    "\n",
    "#0,1,4,5 찾기\n",
    "print(arr[0:2, 0:2])\n",
    "\n",
    "# 행의 위치 변경\n",
    "print(arr[[2,1,0], :])"
   ]
  },
  {
   "cell_type": "markdown",
   "metadata": {},
   "source": [
    "## numpy 자료형\n",
    "    - b : boolean\n",
    "    - i : int                   ex)i8 = 정수형 8  bit 만 사용\n",
    "    - u : 부호 없는 정수 (양수)\n",
    "    - f : float\n",
    "    - c : 복소수\n",
    "    - O : 객체형\n",
    "    - S : 바이트 문자열(str)    ex) S24 = 영어 24 bit 만 사용\n",
    "    - U : 유니코드"
   ]
  },
  {
   "cell_type": "code",
   "execution_count": 57,
   "metadata": {},
   "outputs": [
    {
     "name": "stdout",
     "output_type": "stream",
     "text": [
      "int32\n",
      "float64\n",
      "float64\n"
     ]
    }
   ],
   "source": [
    "arr = np.array([1,2,3])\n",
    "\n",
    "print(arr.dtype)\n",
    "\n",
    "arr = np.array([1.0,2.0,3.0])\n",
    "\n",
    "print(arr.dtype)\n",
    "\n",
    "arr = np.array([1,2,3.0])\n",
    "\n",
    "print(arr.dtype)"
   ]
  },
  {
   "cell_type": "code",
   "execution_count": 63,
   "metadata": {},
   "outputs": [
    {
     "name": "stdout",
     "output_type": "stream",
     "text": [
      "float32\n",
      "3.0\n",
      "<U3\n",
      "12\n"
     ]
    }
   ],
   "source": [
    "# 배열의 데이터 형식 바꾸기\n",
    "\n",
    "arr = np.array([1,2,3], dtype = 'f')\n",
    "print(arr.dtype)\n",
    "\n",
    "print(arr[0] + arr[1])\n",
    "\n",
    "arr = np.array([1,2,3.0], dtype = 'U')\n",
    "print(arr.dtype)\n",
    "\n",
    "print(arr[0] + arr[1])"
   ]
  },
  {
   "cell_type": "markdown",
   "metadata": {},
   "source": [
    "### 배열 생성\n"
   ]
  },
  {
   "cell_type": "code",
   "execution_count": 88,
   "metadata": {},
   "outputs": [
    {
     "name": "stdout",
     "output_type": "stream",
     "text": [
      "[0. 0. 0. 0. 0.] <class 'numpy.ndarray'> float64\n",
      "[0 0 0 0 0] <class 'numpy.ndarray'> int32\n",
      "['' '' '' '' ''] <class 'numpy.ndarray'> <U4\n",
      "['abc' 'abcd' 'abcd' '' '']\n",
      "--------------------\n",
      "[[0. 0. 0.]\n",
      " [0. 0. 0.]] <class 'numpy.ndarray'> float64\n",
      "--------------------\n",
      "[[[1. 1. 1. 1.]\n",
      "  [1. 1. 1. 1.]\n",
      "  [1. 1. 1. 1.]]\n",
      "\n",
      " [[1. 1. 1. 1.]\n",
      "  [1. 1. 1. 1.]\n",
      "  [1. 1. 1. 1.]]] <class 'numpy.ndarray'> float64\n",
      "--------------------\n",
      "[[0. 0. 0.]\n",
      " [0. 0. 0.]]\n",
      "[[1. 1. 1.]\n",
      " [1. 1. 1.]]\n",
      "--------------------\n",
      "[[4.24399158e-314 8.48798317e-314 1.27319747e-313]\n",
      " [1.69759663e-313 2.12199579e-313 2.54639495e-313]\n",
      " [2.97079411e-313 3.39519327e-313 3.81959242e-313]\n",
      " [4.24399158e-313 4.66839074e-313 5.09278990e-313]]\n",
      "--------------------\n",
      "[0 1 2 3 4 5 6 7 8 9]\n",
      "[ 3  5  7  9 11 13 15 17 19]\n",
      "--------------------\n",
      "[  0.  25.  50.  75. 100.]\n"
     ]
    }
   ],
   "source": [
    "arr = np.zeros(5) # 0 값을 자동으로 채워 배열로 만들어줌\n",
    "print(arr, type(arr), arr.dtype)\n",
    "\n",
    "arr = np.zeros(5, dtype = 'i')\n",
    "print(arr, type(arr), arr.dtype)\n",
    "\n",
    "arr = np.zeros(5, dtype = 'U4')\n",
    "print(arr, type(arr), arr.dtype)\n",
    "arr[0] = 'abc'\n",
    "arr[1] = 'abcd'\n",
    "arr[2] = 'abcde' # 크기를 4글자로 지정해두었기 때문에 e 값은 버려짐.\n",
    "print(arr)\n",
    "\n",
    "print('-'*20)\n",
    "\n",
    "arr = np.zeros((2,3))\n",
    "print(arr, type(arr), arr.dtype)\n",
    "\n",
    "print('-'*20)\n",
    "\n",
    "arr = np.ones((2,3,4)) #zeros와 사용법은 같음\n",
    "print(arr, type(arr), arr.dtype)\n",
    "\n",
    "print('-'*20)\n",
    "\n",
    "arr1 = np.zeros((2,3))\n",
    "print(arr1)\n",
    "arr2 =np.ones_like(arr1) # 배열의 내용은 전부 1로 변경해줌\n",
    "print(arr2)\n",
    "\n",
    "print('-'*20)\n",
    "\n",
    "arr = np.empty((4,3)) # 따로 초기화가 되지 않는 그 메모리에 있는 값을 가져다줌\n",
    "print(arr)\n",
    "\n",
    "print('-'*20)\n",
    "\n",
    "arr = np.arange(10) # range 함수과 같으나 리턴값이 배열임\n",
    "print(arr)\n",
    "print(np.arange(3,21,2)) # 3부터 21 까지 2씩 증가하는 배열 리턴\n",
    "\n",
    "print('-'*20)\n",
    "\n",
    "print(np.linspace(0,100,5)) # 구간을 나타내는 함수, 좌표값을 나타내는데 유용하게 사용"
   ]
  },
  {
   "cell_type": "markdown",
   "metadata": {},
   "source": [
    "### 전치연산(Transpose)"
   ]
  },
  {
   "cell_type": "code",
   "execution_count": 91,
   "metadata": {},
   "outputs": [
    {
     "name": "stdout",
     "output_type": "stream",
     "text": [
      "[[1 2 3]\n",
      " [4 5 6]]\n",
      "[[1 4]\n",
      " [2 5]\n",
      " [3 6]]\n"
     ]
    }
   ],
   "source": [
    "# 행은 열로 열은 행으로 변경!\n",
    "arr = np.array([[1,2,3],[4,5,6]])\n",
    "print(arr)\n",
    "print(arr.T)"
   ]
  },
  {
   "cell_type": "markdown",
   "metadata": {},
   "source": [
    "### 배열의 크기 변경 : reshape(), flatten(), ravel()"
   ]
  },
  {
   "cell_type": "code",
   "execution_count": 105,
   "metadata": {},
   "outputs": [
    {
     "name": "stdout",
     "output_type": "stream",
     "text": [
      "[ 0  1  2  3  4  5  6  7  8  9 10 11] / (12,)\n",
      "--------------------\n",
      "[[ 0  1  2  3]\n",
      " [ 4  5  6  7]\n",
      " [ 8  9 10 11]] / (3, 4)\n",
      "--------------------\n",
      "[[ 0  1  2  3]\n",
      " [ 4  5  6  7]\n",
      " [ 8  9 10 11]]\n",
      "--------------------\n",
      "[[ 0  1  2  3]\n",
      " [ 4  5  6  7]\n",
      " [ 8  9 10 11]]\n",
      "--------------------\n",
      "[[[ 0  1  2]\n",
      "  [ 3  4  5]]\n",
      "\n",
      " [[ 6  7  8]\n",
      "  [ 9 10 11]]]\n",
      "(2, 2, 3)\n",
      "[[[ 0  1  2]\n",
      "  [ 3  4  5]]\n",
      "\n",
      " [[ 6  7  8]\n",
      "  [ 9 10 11]]]\n",
      "--------------------\n",
      "[ 0  1  2  3  4  5  6  7  8  9 10 11]\n",
      "[ 0  1  2  3  4  5  6  7  8  9 10 11]\n"
     ]
    }
   ],
   "source": [
    "arr = np.arange(12)\n",
    "print(arr,'/',arr.shape)\n",
    "\n",
    "print('-'*20)\n",
    "\n",
    "arr1 = arr.reshape(3,4)\n",
    "print(arr1, '/', arr1.shape)\n",
    "\n",
    "print('-'*20)\n",
    "\n",
    "arr2 = arr.reshape(3, -1) # 행의 갯수에 맞게끔 열의 갯수를 맞춰라\n",
    "print(arr2)\n",
    "\n",
    "print('-'*20)\n",
    "\n",
    "arr2 = arr.reshape(-1, 4) # 열의 갯수에 맞게끔 행의 갯수를 맞춰라\n",
    "print(arr2)\n",
    "\n",
    "print('-'*20)\n",
    "\n",
    "arr3 = arr.reshape(2,2,3)\n",
    "print(arr3)\n",
    "print(arr3.shape)\n",
    "arr3 = arr.reshape(2,2,-1)\n",
    "print(arr3)\n",
    "\n",
    "print('-'*20)\n",
    "\n",
    "print(arr3.flatten()) # n차원 배열을 1차열 배열로 만들어줌\n",
    "print(arr3.ravel()) # flatten과 같은 함수!"
   ]
  },
  {
   "cell_type": "markdown",
   "metadata": {},
   "source": [
    "### 배열 연결(병합) : stack(), hstack(), vstack(), dstack(), tile()"
   ]
  },
  {
   "cell_type": "code",
   "execution_count": 106,
   "metadata": {},
   "outputs": [
    {
     "name": "stdout",
     "output_type": "stream",
     "text": [
      "[[1. 1. 1. 1. 1.]\n",
      " [1. 1. 1. 1. 1.]]\n"
     ]
    }
   ],
   "source": [
    "arr1 = np.ones((2,3))\n",
    "arr2 = np.ones((2,2))\n",
    "\n",
    "arr3 = np.hstack([arr1, arr2])\n",
    "print(arr3)"
   ]
  },
  {
   "cell_type": "code",
   "execution_count": 109,
   "metadata": {},
   "outputs": [
    {
     "name": "stdout",
     "output_type": "stream",
     "text": [
      "[[[1. 0.]\n",
      "  [1. 0.]\n",
      "  [1. 0.]\n",
      "  [1. 0.]]\n",
      "\n",
      " [[1. 0.]\n",
      "  [1. 0.]\n",
      "  [1. 0.]\n",
      "  [1. 0.]]\n",
      "\n",
      " [[1. 0.]\n",
      "  [1. 0.]\n",
      "  [1. 0.]\n",
      "  [1. 0.]]]\n",
      "(3, 4, 2)\n"
     ]
    }
   ],
   "source": [
    "# 차원을 합쳐주는 dstack\n",
    "\n",
    "arr1 = np.ones((3,4))\n",
    "arr2 = np.zeros((3,4))\n",
    "\n",
    "arr3 = np.dstack([arr1,arr2])\n",
    "print(arr3)\n",
    "print(arr3.shape)"
   ]
  },
  {
   "cell_type": "code",
   "execution_count": 4,
   "metadata": {},
   "outputs": [
    {
     "name": "stdout",
     "output_type": "stream",
     "text": [
      "[[[1. 1. 1. 1.]\n",
      "  [1. 1. 1. 1.]\n",
      "  [1. 1. 1. 1.]]\n",
      "\n",
      " [[0. 0. 0. 0.]\n",
      "  [0. 0. 0. 0.]\n",
      "  [0. 0. 0. 0.]]]\n",
      "--------------------\n",
      "[[[1. 1. 1. 1.]\n",
      "  [1. 1. 1. 1.]\n",
      "  [1. 1. 1. 1.]]\n",
      "\n",
      " [[0. 0. 0. 0.]\n",
      "  [0. 0. 0. 0.]\n",
      "  [0. 0. 0. 0.]]]\n",
      "--------------------\n",
      "[[[1. 1. 1. 1.]\n",
      "  [0. 0. 0. 0.]]\n",
      "\n",
      " [[1. 1. 1. 1.]\n",
      "  [0. 0. 0. 0.]]\n",
      "\n",
      " [[1. 1. 1. 1.]\n",
      "  [0. 0. 0. 0.]]]\n",
      "--------------------\n",
      "[[[1. 0.]\n",
      "  [1. 0.]\n",
      "  [1. 0.]\n",
      "  [1. 0.]]\n",
      "\n",
      " [[1. 0.]\n",
      "  [1. 0.]\n",
      "  [1. 0.]\n",
      "  [1. 0.]]\n",
      "\n",
      " [[1. 0.]\n",
      "  [1. 0.]\n",
      "  [1. 0.]\n",
      "  [1. 0.]]]\n"
     ]
    }
   ],
   "source": [
    "arr1 = np.ones((3,4))\n",
    "arr2 = np.zeros((3,4))\n",
    "\n",
    "arr3 = np.stack([arr1,arr2])\n",
    "print(arr3)\n",
    "\n",
    "print('-'*20)\n",
    "\n",
    "arr3 = np.stack([arr1,arr2], axis = 0) # 열을 기준으로 병합\n",
    "print(arr3)\n",
    "\n",
    "print('-'*20)\n",
    "\n",
    "arr3 = np.stack([arr1,arr2], axis = 1) # 행을 기준으로 병합\n",
    "print(arr3)\n",
    "\n",
    "print('-'*20)\n",
    "\n",
    "arr3 = np.stack([arr1,arr2], axis = 2) # 차원을 기준으로 병합, 1차원을 병합할 경우 차원간의 병합이 안됨. 사용불가.\n",
    "print(arr3)"
   ]
  },
  {
   "cell_type": "code",
   "execution_count": 7,
   "metadata": {},
   "outputs": [
    {
     "name": "stdout",
     "output_type": "stream",
     "text": [
      "[[1 2 3]\n",
      " [4 5 6]]\n",
      "[[1 2 3 1 2 3]\n",
      " [4 5 6 4 5 6]]\n",
      "[[1 2 3 1 2 3]\n",
      " [4 5 6 4 5 6]\n",
      " [1 2 3 1 2 3]\n",
      " [4 5 6 4 5 6]\n",
      " [1 2 3 1 2 3]\n",
      " [4 5 6 4 5 6]]\n"
     ]
    }
   ],
   "source": [
    "# tile() : 반복해서 붙임\n",
    "\n",
    "arr = np.array([[1,2,3],[4,5,6]])\n",
    "print(arr)\n",
    "\n",
    "print(np.tile(arr,2))\n",
    "\n",
    "print(np.tile(arr,(3,2)))"
   ]
  },
  {
   "cell_type": "markdown",
   "metadata": {},
   "source": [
    "### 2차원 그리드 포인트 생성 : meshgrid()"
   ]
  },
  {
   "cell_type": "code",
   "execution_count": 6,
   "metadata": {},
   "outputs": [
    {
     "name": "stdout",
     "output_type": "stream",
     "text": [
      "[0 1 2]\n",
      "[0 1 2 3 4]\n",
      "++++++++++++++++++++++++++++++\n",
      "[[0 1 2]\n",
      " [0 1 2]\n",
      " [0 1 2]\n",
      " [0 1 2]\n",
      " [0 1 2]]\n",
      "++++++++++++++++++++++++++++++\n",
      "[[0 0 0]\n",
      " [1 1 1]\n",
      " [2 2 2]\n",
      " [3 3 3]\n",
      " [4 4 4]]\n"
     ]
    },
    {
     "data": {
      "text/plain": [
       "<matplotlib.collections.PathCollection at 0x38f3838>"
      ]
     },
     "execution_count": 6,
     "metadata": {},
     "output_type": "execute_result"
    },
    {
     "data": {
      "image/png": "[encoded data removed]",
      "text/plain": [
       "<Figure size 432x288 with 1 Axes>"
      ]
     },
     "metadata": {
      "needs_background": "light"
     },
     "output_type": "display_data"
    }
   ],
   "source": [
    "x = np.arange(3)\n",
    "\n",
    "print(x)\n",
    "\n",
    "y = np.arange(5)\n",
    "\n",
    "print(y)\n",
    "\n",
    "print('+'*30)\n",
    "\n",
    "X,Y = np.meshgrid(x,y)\n",
    "\n",
    "print(X)\n",
    "print('+'*30)\n",
    "print(Y)\n",
    "\n",
    "import matplotlib.pylab as plt\n",
    "\n",
    "plt.scatter(X,Y)\n"
   ]
  },
  {
   "cell_type": "code",
   "execution_count": 11,
   "metadata": {},
   "outputs": [
    {
     "data": {
      "image/png": "[encoded data removed]",
      "text/plain": [
       "<Figure size 432x288 with 1 Axes>"
      ]
     },
     "metadata": {
      "needs_background": "light"
     },
     "output_type": "display_data"
    }
   ],
   "source": [
    "plt.scatter(X,Y)\n",
    "\"\"\"[ [(0,0), (1,0), (2,0)],\n",
    "[(0,1),(1,1),(2,1)],\n",
    "[(0,2),(1,2),(2,2)],\n",
    "[(0,3),(1,3),(2,3)],\n",
    "[(0,4),(1,4),(2,4)] ] \"\"\"\n",
    "\n",
    "a = np.arange(3)\n",
    "b = np.arange(5)\n",
    "A,B = np.meshgrid(a,b)"
   ]
  },
  {
   "cell_type": "markdown",
   "metadata": {},
   "source": [
    "### 브로드 캐스팅(BroadCasting) ★\n",
    "    - 크기가 서로 다른 행렬(벡터) 끼리의 연산을 가능하게 함."
   ]
  },
  {
   "cell_type": "code",
   "execution_count": 27,
   "metadata": {},
   "outputs": [
    {
     "name": "stdout",
     "output_type": "stream",
     "text": [
      "[[0 1 2]\n",
      " [1 2 3]\n",
      " [2 3 4]\n",
      " [3 4 5]\n",
      " [4 5 6]]\n",
      "[[0]\n",
      " [1]\n",
      " [2]\n",
      " [3]\n",
      " [4]]\n",
      "++++++++++++++++++++++++++++++\n",
      "[[ 0  1  2]\n",
      " [ 2  3  4]\n",
      " [ 4  5  6]\n",
      " [ 6  7  8]\n",
      " [ 8  9 10]]\n",
      "++++++++++++++++++++++++++++++\n",
      "[[0 2 4]\n",
      " [1 3 5]\n",
      " [2 4 6]\n",
      " [3 5 7]\n",
      " [4 6 8]]\n"
     ]
    }
   ],
   "source": [
    "x = np.vstack([range(7)[i:i+3] for i in range(5)])\n",
    "y = np.arange(5)[: , np.newaxis] # 인덱싱을 이용한 차원 생성\n",
    "print(x)\n",
    "print(y)\n",
    "\n",
    "print('+'*30)\n",
    "\n",
    "print(x+y)\n",
    "\n",
    "print('+'*30)\n",
    "\n",
    "y = np.arange(3)\n",
    "\n",
    "print(x+y)"
   ]
  },
  {
   "cell_type": "markdown",
   "metadata": {},
   "source": [
    "### 차원축소 (dimension reduction) 연산\n",
    "     - 최대값/최소값 : min( ), max( ), argmin( ), argmax( )\n",
    "     - 대표값 : sum( ), mean( ), median( ), std( ), var( )\n",
    "     - 논리값 : all( ), any( )"
   ]
  },
  {
   "cell_type": "code",
   "execution_count": 30,
   "metadata": {},
   "outputs": [
    {
     "name": "stdout",
     "output_type": "stream",
     "text": [
      "0\n",
      "1\n"
     ]
    }
   ],
   "source": [
    "x = np.array([1,3,2])\n",
    "print(np.argmin(x)) # 가장 최소값이 있는 위치 반환\n",
    "print(np.argmax(x)) # 가장 최대값이 있는 위치 반환"
   ]
  },
  {
   "cell_type": "code",
   "execution_count": 31,
   "metadata": {},
   "outputs": [
    {
     "name": "stdout",
     "output_type": "stream",
     "text": [
      "True\n",
      "False\n"
     ]
    }
   ],
   "source": [
    "print(np.any([True, True, False]))\n",
    "print(np.all([True, True, False]))"
   ]
  },
  {
   "cell_type": "code",
   "execution_count": 36,
   "metadata": {},
   "outputs": [
    {
     "name": "stdout",
     "output_type": "stream",
     "text": [
      "6\n",
      "[3 3]\n",
      "[2 4]\n"
     ]
    }
   ],
   "source": [
    "arr = np.array([[1,1],[2,2]])\n",
    "\n",
    "print(arr.sum()) # 전체 합계\n",
    "\n",
    "print(arr.sum(axis = 0)) # 열끼리의 합계\n",
    "\n",
    "print(arr.sum(axis = 1)) # 행끼리의 합계"
   ]
  },
  {
   "cell_type": "markdown",
   "metadata": {},
   "source": [
    "### 기술통계\n",
    "    - len( )\n",
    "    - sum( ), mean( ), median( ), std( ), var( )\n",
    "    - percentile( ) -> 사분위수\n"
   ]
  },
  {
   "cell_type": "code",
   "execution_count": 44,
   "metadata": {},
   "outputs": [
    {
     "name": "stdout",
     "output_type": "stream",
     "text": [
      "최소값 :  -24.0\n",
      "최대값 :  23.0\n",
      "1사분위값 :  0.0\n",
      "중앙값 :  5.0\n",
      "3사분위값 :  10.0\n"
     ]
    }
   ],
   "source": [
    "x = np.array([18,   5,  10,  23,  19,  -8,  10,   0,   0,   5,   2,  15,   8,\n",
    "              2,   5,   4,  15,  -1,   4,  -7, -24,   7,   9,  -6,  23, -13])\n",
    "\n",
    "print('최소값 : ', np.percentile(x, 0))\n",
    "\n",
    "print('최대값 : ', np.percentile(x, 100))\n",
    "\n",
    "print('1사분위값 : ', np.percentile(x, 25))\n",
    "\n",
    "print('중앙값 : ', np.percentile(x, 50))\n",
    "\n",
    "print('3사분위값 : ', np.percentile(x, 75))"
   ]
  },
  {
   "cell_type": "markdown",
   "metadata": {},
   "source": [
    "### 정렬"
   ]
  },
  {
   "cell_type": "code",
   "execution_count": 51,
   "metadata": {},
   "outputs": [
    {
     "name": "stdout",
     "output_type": "stream",
     "text": [
      "[[ 2  5  8 16]\n",
      " [ 3  5  8 14]\n",
      " [ 5  6  9 11]]\n",
      "[[ 2  5  8 16]\n",
      " [ 3  5  8 14]\n",
      " [ 5  6  9 11]]\n",
      "[[ 5  2  5  3]\n",
      " [ 8  5  9  6]\n",
      " [16 11 14  8]]\n",
      "++++++++++++++++++++++++++++++\n",
      "[[ 2  5  8 16]\n",
      " [ 3  5  8 14]\n",
      " [ 5  6  9 11]]\n"
     ]
    }
   ],
   "source": [
    "arr = np.array([[16,2,5,8],[8,5,14,3],[5,11,9,6]])\n",
    "\n",
    "# defualt 값이 1이다.\n",
    "print(np.sort(arr))\n",
    "print(np.sort(arr, axis = 1))\n",
    "print(np.sort(arr, axis = 0))\n",
    "# 원본은 변하지 않음.\n",
    "\n",
    "print('+'*30)\n",
    "\n",
    "#원본 자체가 변함. in-place\n",
    "arr.sort()\n",
    "print(arr)"
   ]
  },
  {
   "cell_type": "code",
   "execution_count": 54,
   "metadata": {},
   "outputs": [
    {
     "name": "stdout",
     "output_type": "stream",
     "text": [
      "[12 25 38 42]\n"
     ]
    }
   ],
   "source": [
    "# argsort( ) : 정렬을 시켜주는 것은 아니지만 그 데이터의 인덱스를 크기 순서대로 반환해줌,\n",
    "arr = np.array([42,38,12,25])\n",
    "idx = np.argsort(arr)\n",
    "\n",
    "print(arr[idx])"
   ]
  },
  {
   "cell_type": "markdown",
   "metadata": {},
   "source": [
    "### 난수\n",
    "    - rand( ) : 0-1사이의 균일 분포\n",
    "    - randn( ) : 가우시안 표준 정규 분포\n",
    "    - randint( ) : 균등분포의 정수 난수"
   ]
  },
  {
   "cell_type": "code",
   "execution_count": 58,
   "metadata": {},
   "outputs": [
    {
     "name": "stdout",
     "output_type": "stream",
     "text": [
      "[0.65641378 0.04947305 0.9707191  0.34164696 0.93873184 0.5422718\n",
      " 0.45748516 0.34538301 0.79710192 0.08242695]\n",
      "++++++++++++++++++++++++++++++\n",
      "[ 9.03694278e-01 -5.08871319e-01  3.88239627e-01  1.41894834e+00\n",
      "  1.89908445e+00 -1.30016348e+00  2.38644856e-01  5.90004002e-01\n",
      " -1.07884367e+00 -5.79671348e-04]\n",
      "++++++++++++++++++++++++++++++\n",
      "[[ 0.51502152  1.21122452 -2.24001962 -0.1640523   0.01605565]\n",
      " [ 1.14242129 -0.41209178 -0.79984932  0.33974702 -1.21120794]\n",
      " [ 0.281125    1.25995989 -1.02538075 -1.26384329  1.46776731]]\n"
     ]
    }
   ],
   "source": [
    "print(np.random.rand(10))\n",
    "print('+'*30)\n",
    "print(np.random.randn(10))\n",
    "print('+'*30)\n",
    "print(np.random.randn(3,5))"
   ]
  },
  {
   "cell_type": "code",
   "execution_count": 64,
   "metadata": {},
   "outputs": [
    {
     "name": "stdout",
     "output_type": "stream",
     "text": [
      "1\n",
      "[19 18 15 17 18 15 12 19 17 15 14 12 12 16 15 18 18 16 11 11 12 12 15 16\n",
      " 12 11 13 13 11 13 18 18 18 18 14 15 17 13 17 13 12 18 11 11 17 17 16 19\n",
      " 18 17 11 11 15 13 17 12 17 15 13 15 15 17 17 18 15 15 19 19 17 12 14 19\n",
      " 16 15 15 19 14 15 18 11 18 16 18 19 18 14 12 11 15 18 19 18 18 15 16 18\n",
      " 12 15 14 14]\n",
      "[[17 14 19 17]\n",
      " [17 19 12 15]\n",
      " [15 14 14 19]]\n"
     ]
    }
   ],
   "source": [
    "print(np.random.randint(10))\n",
    "# 0-10 사이의 숫자 아무거나 반환\n",
    "print(np.random.randint(11,20, size = 100))\n",
    "# 11부터 20 사이의 숫자중 랜덤으로 100개 추출\n",
    "print(np.random.randint(11,20, size = (3,4)))\n",
    "# 11부터 20 사이의 숫자 중 랜덤으로 3행4열의 배열 추출"
   ]
  },
  {
   "cell_type": "code",
   "execution_count": 66,
   "metadata": {},
   "outputs": [
    {
     "data": {
      "text/plain": [
       "array([0.54340494, 0.27836939, 0.42451759, 0.84477613, 0.00471886])"
      ]
     },
     "execution_count": 66,
     "metadata": {},
     "output_type": "execute_result"
    }
   ],
   "source": [
    "# 재현성\n",
    "np.random.seed(100)\n",
    "np.random.rand(5)"
   ]
  },
  {
   "cell_type": "code",
   "execution_count": 68,
   "metadata": {},
   "outputs": [
    {
     "name": "stdout",
     "output_type": "stream",
     "text": [
      "[0 1 2 3 4 5 6 7 8 9]\n",
      "[8 4 3 0 1 6 7 9 5 2]\n"
     ]
    }
   ],
   "source": [
    "# 데이터 순서 바꾸기\n",
    "x = np.arange(10)\n",
    "print(x)\n",
    "np.random.shuffle(x)\n",
    "print(x)"
   ]
  },
  {
   "cell_type": "code",
   "execution_count": 76,
   "metadata": {},
   "outputs": [
    {
     "name": "stdout",
     "output_type": "stream",
     "text": [
      "[0 1 4 2 3]\n",
      "[4 1 2 0 3]\n",
      "[0 2 3 3 3 3 3 2 3 0]\n"
     ]
    }
   ],
   "source": [
    "# 샘플링 : 복원추출(default), 비복원추출\n",
    "\n",
    "print(np.random.choice(5, 5))\n",
    "print(np.random.choice(5, 5, replace = False)) # 비복원추출\n",
    "\n",
    "print(np.random.choice(5, 10, p=[0.1,0,0.3,0.6,0])) # 뽑힐 확률 지정 가능, 총 합이 1이 되어야함."
   ]
  },
  {
   "cell_type": "markdown",
   "metadata": {},
   "source": [
    "### 정수형 데이터 카운팅  : unique( ), bincount( )"
   ]
  },
  {
   "cell_type": "code",
   "execution_count": 78,
   "metadata": {},
   "outputs": [
    {
     "name": "stdout",
     "output_type": "stream",
     "text": [
      "5\n",
      "['a' 'b' 'c' 'e']\n"
     ]
    }
   ],
   "source": [
    "arr = np.array(['a', 'b', 'a', 'c', 'e'])\n",
    "print(len(arr))\n",
    "print(np.unique(arr)) # 중복된 데이터제거"
   ]
  },
  {
   "cell_type": "code",
   "execution_count": 81,
   "metadata": {},
   "outputs": [
    {
     "name": "stdout",
     "output_type": "stream",
     "text": [
      "['a' 'b' 'c' 'e']\n",
      "[2 1 1 1]\n"
     ]
    }
   ],
   "source": [
    "index, count = np.unique(arr, return_counts = True) # 몇개가 중복되었는지 반환\n",
    "print(index)\n",
    "print(count)"
   ]
  },
  {
   "cell_type": "code",
   "execution_count": 82,
   "metadata": {},
   "outputs": [
    {
     "name": "stdout",
     "output_type": "stream",
     "text": [
      "[0 2 3 1 0 0]\n"
     ]
    }
   ],
   "source": [
    "# bincount : 발생하지 않은 사건에 대해서도 카운팅 가능\n",
    "\n",
    "arr = np.array([1,1,2,2,2,3])\n",
    "print(np.bincount(arr, minlength = 6))\n"
   ]
  },
  {
   "cell_type": "markdown",
   "metadata": {},
   "source": []
  },
  {
   "cell_type": "code",
   "execution_count": null,
   "metadata": {},
   "outputs": [],
   "source": []
  },
  {
   "cell_type": "code",
   "execution_count": null,
   "metadata": {},
   "outputs": [],
   "source": []
  },
  {
   "cell_type": "code",
   "execution_count": null,
   "metadata": {},
   "outputs": [],
   "source": []
  },
  {
   "cell_type": "code",
   "execution_count": null,
   "metadata": {},
   "outputs": [],
   "source": []
  },
  {
   "cell_type": "code",
   "execution_count": null,
   "metadata": {},
   "outputs": [],
   "source": []
  }
 ],
 "metadata": {
  "kernelspec": {
   "display_name": "Python 3",
   "language": "python",
   "name": "python3"
  },
  "language_info": {
   "codemirror_mode": {
    "name": "ipython",
    "version": 3
   },
   "file_extension": ".py",
   "mimetype": "text/x-python",
   "name": "python",
   "nbconvert_exporter": "python",
   "pygments_lexer": "ipython3",
   "version": "3.7.4"
  }
 },
 "nbformat": 4,
 "nbformat_minor": 4
}
