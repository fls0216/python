{
 "cells": [
  {
   "cell_type": "markdown",
   "metadata": {},
   "source": [
    "# 1. 서울시 구별 CCTV 현황 분석\n",
    "    - http://opengov.seoul.go.kr\n",
    "    - http://stat.seoul.go.kr"
   ]
  },
  {
   "cell_type": "code",
   "execution_count": 1,
   "metadata": {},
   "outputs": [],
   "source": [
    "import numpy as np\n",
    "import pandas as pd\n",
    "# 전체적인 환경설정 용도\n",
    "import matplotlib as mpl\n",
    "import matplotlib.pyplot as plt\n",
    "import seaborn as sns\n",
    "\n",
    "import matplotlib.font_manager as fm\n",
    "font_name = fm.FontProperties(fname = 'C:\\Windows\\Fonts\\malgun.ttf').get_name()\n",
    "plt.rc('font', family = font_name)\n",
    "\n",
    "mpl.rcParams['axes.unicode_minus'] = False"
   ]
  },
  {
   "cell_type": "markdown",
   "metadata": {},
   "source": [
    "### 1) 데이터 수집"
   ]
  },
  {
   "cell_type": "code",
   "execution_count": 2,
   "metadata": {},
   "outputs": [
    {
     "data": {
      "text/html": [
       "<div>\n",
       "<style scoped>\n",
       "    .dataframe tbody tr th:only-of-type {\n",
       "        vertical-align: middle;\n",
       "    }\n",
       "\n",
       "    .dataframe tbody tr th {\n",
       "        vertical-align: top;\n",
       "    }\n",
       "\n",
       "    .dataframe thead th {\n",
       "        text-align: right;\n",
       "    }\n",
       "</style>\n",
       "<table border=\"1\" class=\"dataframe\">\n",
       "  <thead>\n",
       "    <tr style=\"text-align: right;\">\n",
       "      <th></th>\n",
       "      <th>기관명</th>\n",
       "      <th>소계</th>\n",
       "      <th>2013년도 이전</th>\n",
       "      <th>2014년</th>\n",
       "      <th>2015년</th>\n",
       "      <th>2016년</th>\n",
       "    </tr>\n",
       "  </thead>\n",
       "  <tbody>\n",
       "    <tr>\n",
       "      <td>0</td>\n",
       "      <td>강남구</td>\n",
       "      <td>3238</td>\n",
       "      <td>1292</td>\n",
       "      <td>430</td>\n",
       "      <td>584</td>\n",
       "      <td>932</td>\n",
       "    </tr>\n",
       "    <tr>\n",
       "      <td>1</td>\n",
       "      <td>강동구</td>\n",
       "      <td>1010</td>\n",
       "      <td>379</td>\n",
       "      <td>99</td>\n",
       "      <td>155</td>\n",
       "      <td>377</td>\n",
       "    </tr>\n",
       "    <tr>\n",
       "      <td>2</td>\n",
       "      <td>강북구</td>\n",
       "      <td>831</td>\n",
       "      <td>369</td>\n",
       "      <td>120</td>\n",
       "      <td>138</td>\n",
       "      <td>204</td>\n",
       "    </tr>\n",
       "    <tr>\n",
       "      <td>3</td>\n",
       "      <td>강서구</td>\n",
       "      <td>911</td>\n",
       "      <td>388</td>\n",
       "      <td>258</td>\n",
       "      <td>184</td>\n",
       "      <td>81</td>\n",
       "    </tr>\n",
       "    <tr>\n",
       "      <td>4</td>\n",
       "      <td>관악구</td>\n",
       "      <td>2109</td>\n",
       "      <td>846</td>\n",
       "      <td>260</td>\n",
       "      <td>390</td>\n",
       "      <td>613</td>\n",
       "    </tr>\n",
       "  </tbody>\n",
       "</table>\n",
       "</div>"
      ],
      "text/plain": [
       "   기관명    소계  2013년도 이전  2014년  2015년  2016년\n",
       "0  강남구  3238       1292    430    584    932\n",
       "1  강동구  1010        379     99    155    377\n",
       "2  강북구   831        369    120    138    204\n",
       "3  강서구   911        388    258    184     81\n",
       "4  관악구  2109        846    260    390    613"
      ]
     },
     "execution_count": 2,
     "metadata": {},
     "output_type": "execute_result"
    }
   ],
   "source": [
    "# cctv 자료 불러오기\n",
    "\n",
    "cctv = pd.read_csv('C:\\\\Users\\\\acorn\\\\python\\\\analysis\\\\data\\\\seoul\\\\cctv.csv')\n",
    "\n",
    "cctv.head(5)"
   ]
  },
  {
   "cell_type": "code",
   "execution_count": 3,
   "metadata": {},
   "outputs": [
    {
     "data": {
      "text/html": [
       "<div>\n",
       "<style scoped>\n",
       "    .dataframe tbody tr th:only-of-type {\n",
       "        vertical-align: middle;\n",
       "    }\n",
       "\n",
       "    .dataframe tbody tr th {\n",
       "        vertical-align: top;\n",
       "    }\n",
       "\n",
       "    .dataframe thead th {\n",
       "        text-align: right;\n",
       "    }\n",
       "</style>\n",
       "<table border=\"1\" class=\"dataframe\">\n",
       "  <thead>\n",
       "    <tr style=\"text-align: right;\">\n",
       "      <th></th>\n",
       "      <th>자치구</th>\n",
       "      <th>계</th>\n",
       "      <th>계.1</th>\n",
       "      <th>계.2</th>\n",
       "      <th>65세이상고령자</th>\n",
       "    </tr>\n",
       "  </thead>\n",
       "  <tbody>\n",
       "    <tr>\n",
       "      <td>0</td>\n",
       "      <td>합계</td>\n",
       "      <td>10112070</td>\n",
       "      <td>9838892</td>\n",
       "      <td>273178</td>\n",
       "      <td>1382420</td>\n",
       "    </tr>\n",
       "    <tr>\n",
       "      <td>1</td>\n",
       "      <td>종로구</td>\n",
       "      <td>164348</td>\n",
       "      <td>154549</td>\n",
       "      <td>9799</td>\n",
       "      <td>26429</td>\n",
       "    </tr>\n",
       "    <tr>\n",
       "      <td>2</td>\n",
       "      <td>중구</td>\n",
       "      <td>135139</td>\n",
       "      <td>126082</td>\n",
       "      <td>9057</td>\n",
       "      <td>21655</td>\n",
       "    </tr>\n",
       "    <tr>\n",
       "      <td>3</td>\n",
       "      <td>용산구</td>\n",
       "      <td>245411</td>\n",
       "      <td>229909</td>\n",
       "      <td>15502</td>\n",
       "      <td>37238</td>\n",
       "    </tr>\n",
       "    <tr>\n",
       "      <td>4</td>\n",
       "      <td>성동구</td>\n",
       "      <td>314551</td>\n",
       "      <td>306532</td>\n",
       "      <td>8019</td>\n",
       "      <td>41752</td>\n",
       "    </tr>\n",
       "  </tbody>\n",
       "</table>\n",
       "</div>"
      ],
      "text/plain": [
       "   자치구         계      계.1     계.2  65세이상고령자\n",
       "0   합계  10112070  9838892  273178   1382420\n",
       "1  종로구    164348   154549    9799     26429\n",
       "2   중구    135139   126082    9057     21655\n",
       "3  용산구    245411   229909   15502     37238\n",
       "4  성동구    314551   306532    8019     41752"
      ]
     },
     "execution_count": 3,
     "metadata": {},
     "output_type": "execute_result"
    }
   ],
   "source": [
    "# 인구수 자료 불러오기(필요한 자료만)\n",
    "people = pd.read_excel('C:\\\\Users\\\\acorn\\\\python\\\\analysis\\\\data\\\\seoul\\\\Report.xls', \n",
    "                       usecols = 'B,D,G,J,N',\n",
    "                       header = 2)\n",
    "people.head()"
   ]
  },
  {
   "cell_type": "markdown",
   "metadata": {},
   "source": [
    "### 2) 데이터 전처리"
   ]
  },
  {
   "cell_type": "code",
   "execution_count": 7,
   "metadata": {},
   "outputs": [
    {
     "data": {
      "text/html": [
       "<div>\n",
       "<style scoped>\n",
       "    .dataframe tbody tr th:only-of-type {\n",
       "        vertical-align: middle;\n",
       "    }\n",
       "\n",
       "    .dataframe tbody tr th {\n",
       "        vertical-align: top;\n",
       "    }\n",
       "\n",
       "    .dataframe thead th {\n",
       "        text-align: right;\n",
       "    }\n",
       "</style>\n",
       "<table border=\"1\" class=\"dataframe\">\n",
       "  <thead>\n",
       "    <tr style=\"text-align: right;\">\n",
       "      <th></th>\n",
       "      <th>구별</th>\n",
       "      <th>인구수</th>\n",
       "      <th>한국인</th>\n",
       "      <th>외국인</th>\n",
       "      <th>고령자</th>\n",
       "    </tr>\n",
       "  </thead>\n",
       "  <tbody>\n",
       "    <tr>\n",
       "      <td>0</td>\n",
       "      <td>합계</td>\n",
       "      <td>10112070</td>\n",
       "      <td>9838892</td>\n",
       "      <td>273178</td>\n",
       "      <td>1382420</td>\n",
       "    </tr>\n",
       "    <tr>\n",
       "      <td>1</td>\n",
       "      <td>종로구</td>\n",
       "      <td>164348</td>\n",
       "      <td>154549</td>\n",
       "      <td>9799</td>\n",
       "      <td>26429</td>\n",
       "    </tr>\n",
       "    <tr>\n",
       "      <td>2</td>\n",
       "      <td>중구</td>\n",
       "      <td>135139</td>\n",
       "      <td>126082</td>\n",
       "      <td>9057</td>\n",
       "      <td>21655</td>\n",
       "    </tr>\n",
       "    <tr>\n",
       "      <td>3</td>\n",
       "      <td>용산구</td>\n",
       "      <td>245411</td>\n",
       "      <td>229909</td>\n",
       "      <td>15502</td>\n",
       "      <td>37238</td>\n",
       "    </tr>\n",
       "    <tr>\n",
       "      <td>4</td>\n",
       "      <td>성동구</td>\n",
       "      <td>314551</td>\n",
       "      <td>306532</td>\n",
       "      <td>8019</td>\n",
       "      <td>41752</td>\n",
       "    </tr>\n",
       "  </tbody>\n",
       "</table>\n",
       "</div>"
      ],
      "text/plain": [
       "    구별       인구수      한국인     외국인      고령자\n",
       "0   합계  10112070  9838892  273178  1382420\n",
       "1  종로구    164348   154549    9799    26429\n",
       "2   중구    135139   126082    9057    21655\n",
       "3  용산구    245411   229909   15502    37238\n",
       "4  성동구    314551   306532    8019    41752"
      ]
     },
     "execution_count": 7,
     "metadata": {},
     "output_type": "execute_result"
    }
   ],
   "source": [
    "# 컬럼명 변경\n",
    "\n",
    "# cctv 자료에서 기관명 -> 구별\n",
    "cctv.rename(columns = {cctv.columns[0]:'구별'}, inplace = True)\n",
    "\n",
    "#인구수 데이터에서 컬럼명을 구별, 인구수, 한국인, 외국인, 고령자로 변경\n",
    "people.rename(columns = {people.columns[0]:'구별',\n",
    "                         people.columns[1]:'인구수',\n",
    "                         people.columns[2]:'한국인',\n",
    "                         people.columns[3]:'외국인',\n",
    "                         people.columns[4]:'고령자'}, inplace= True)\n",
    "people.head()"
   ]
  },
  {
   "cell_type": "markdown",
   "metadata": {},
   "source": [
    "### 3) 탐색적 데이터 분석\n",
    "    -데이터 간의 관계를 파악하기 위해 데이터의 기초통계 및 데이터의 분포를 파악하여 변수간의 유의미한 관계를 확인함."
   ]
  },
  {
   "cell_type": "code",
   "execution_count": 13,
   "metadata": {},
   "outputs": [
    {
     "name": "stdout",
     "output_type": "stream",
     "text": [
      "     구별    소계  2013년도 이전  2014년  2015년  2016년\n",
      "0   강남구  3238       1292    430    584    932\n",
      "18  양천구  2482       1843    142     30    467\n",
      "14  서초구  2297       1406    157    336    398\n",
      "4   관악구  2109        846    260    390    613\n",
      "21  은평구  2108       1138    224    278    468\n",
      "++++++++++++++++++++++++++++++++++++++++++++++++++\n",
      "     구별   소계  2013년도 이전  2014년  2015년  2016년\n",
      "9   도봉구  825        238    159     42    386\n",
      "2   강북구  831        369    120    138    204\n",
      "5   광진구  878        573     78     53    174\n",
      "3   강서구  911        388    258    184     81\n",
      "24  중랑구  916        509    121    177    109\n"
     ]
    }
   ],
   "source": [
    "# 어느구가 가장 cctv가 많이 설치되어있는가(가장 적게 설치되어있는가?)\n",
    "\n",
    "#cctv 데이터에서 소계를 기준으로 정렬\n",
    "\n",
    "print(cctv.sort_values(by='소계', ascending = False).head(5)) # 많은 순\n",
    "print('+'*50)\n",
    "print(cctv.sort_values(by='소계').head(5) )# 적은 순\n"
   ]
  },
  {
   "cell_type": "code",
   "execution_count": 22,
   "metadata": {},
   "outputs": [
    {
     "name": "stdout",
     "output_type": "stream",
     "text": [
      "     구별    소계  2013년도 이전  2014년  2015년  2016년  최근 증가율\n",
      "22  종로구  1619        464    314    211    630  248.92\n",
      "9   도봉구   825        238    159     42    386  246.64\n",
      "12  마포구   980        314    118    169    379  212.10\n",
      "8   노원구  1566        542     57    451    516  188.93\n",
      "1   강동구  1010        379     99    155    377  166.49\n",
      "++++++++++++++++++++++++++++++++++++++++++++++++++++++++++++\n",
      "      구별    소계  2013년도 이전  2014년  2015년  2016년  최근 증가율\n",
      "18   양천구  2482       1843    142     30    467   34.67\n",
      "13  서대문구  1254        844     50     68    292   48.58\n",
      "20   용산구  2096       1368    218    112    398   53.22\n",
      "5    광진구   878        573     78     53    174   53.23\n",
      "14   서초구  2297       1406    157    336    398   63.37\n"
     ]
    }
   ],
   "source": [
    "# cctv 설치 증가율!\n",
    "# cctv 설치 연도별 증가율을 구해서 최근 증가율 컬럼 추가\n",
    "# (2014 + 2015 + 2016)/2013년도 이전 *100\n",
    "\n",
    "cctv['최근 증가율'] = round((cctv.loc[:,'2014년']+cctv.loc[:,'2015년']+cctv.loc[:,'2016년'])/cctv.loc[:,'2013년도 이전']*100, 2)\n",
    "\n",
    "print(cctv.sort_values(by='최근 증가율', ascending = False).head())\n",
    "print('+'*60)\n",
    "print(cctv.sort_values(by='최근 증가율').head())"
   ]
  },
  {
   "cell_type": "code",
   "execution_count": 30,
   "metadata": {},
   "outputs": [
    {
     "data": {
      "text/html": [
       "<div>\n",
       "<style scoped>\n",
       "    .dataframe tbody tr th:only-of-type {\n",
       "        vertical-align: middle;\n",
       "    }\n",
       "\n",
       "    .dataframe tbody tr th {\n",
       "        vertical-align: top;\n",
       "    }\n",
       "\n",
       "    .dataframe thead th {\n",
       "        text-align: right;\n",
       "    }\n",
       "</style>\n",
       "<table border=\"1\" class=\"dataframe\">\n",
       "  <thead>\n",
       "    <tr style=\"text-align: right;\">\n",
       "      <th></th>\n",
       "      <th>구별</th>\n",
       "      <th>인구수</th>\n",
       "      <th>한국인</th>\n",
       "      <th>외국인</th>\n",
       "      <th>고령자</th>\n",
       "    </tr>\n",
       "  </thead>\n",
       "  <tbody>\n",
       "    <tr>\n",
       "      <td>1</td>\n",
       "      <td>종로구</td>\n",
       "      <td>164348</td>\n",
       "      <td>154549</td>\n",
       "      <td>9799</td>\n",
       "      <td>26429</td>\n",
       "    </tr>\n",
       "    <tr>\n",
       "      <td>2</td>\n",
       "      <td>중구</td>\n",
       "      <td>135139</td>\n",
       "      <td>126082</td>\n",
       "      <td>9057</td>\n",
       "      <td>21655</td>\n",
       "    </tr>\n",
       "    <tr>\n",
       "      <td>3</td>\n",
       "      <td>용산구</td>\n",
       "      <td>245411</td>\n",
       "      <td>229909</td>\n",
       "      <td>15502</td>\n",
       "      <td>37238</td>\n",
       "    </tr>\n",
       "    <tr>\n",
       "      <td>4</td>\n",
       "      <td>성동구</td>\n",
       "      <td>314551</td>\n",
       "      <td>306532</td>\n",
       "      <td>8019</td>\n",
       "      <td>41752</td>\n",
       "    </tr>\n",
       "    <tr>\n",
       "      <td>5</td>\n",
       "      <td>광진구</td>\n",
       "      <td>371671</td>\n",
       "      <td>357149</td>\n",
       "      <td>14522</td>\n",
       "      <td>44470</td>\n",
       "    </tr>\n",
       "  </tbody>\n",
       "</table>\n",
       "</div>"
      ],
      "text/plain": [
       "    구별     인구수     한국인    외국인    고령자\n",
       "1  종로구  164348  154549   9799  26429\n",
       "2   중구  135139  126082   9057  21655\n",
       "3  용산구  245411  229909  15502  37238\n",
       "4  성동구  314551  306532   8019  41752\n",
       "5  광진구  371671  357149  14522  44470"
      ]
     },
     "execution_count": 30,
     "metadata": {},
     "output_type": "execute_result"
    }
   ],
   "source": [
    "# 인구 수 데이터 분석\n",
    "\n",
    "# 필요없는 행 삭제 : del(열), drop(행)\n",
    "\n",
    "people.drop([0], inplace = True)\n",
    "\n",
    "people.head()\n",
    "\n"
   ]
  },
  {
   "cell_type": "code",
   "execution_count": 32,
   "metadata": {},
   "outputs": [
    {
     "data": {
      "text/html": [
       "<div>\n",
       "<style scoped>\n",
       "    .dataframe tbody tr th:only-of-type {\n",
       "        vertical-align: middle;\n",
       "    }\n",
       "\n",
       "    .dataframe tbody tr th {\n",
       "        vertical-align: top;\n",
       "    }\n",
       "\n",
       "    .dataframe thead th {\n",
       "        text-align: right;\n",
       "    }\n",
       "</style>\n",
       "<table border=\"1\" class=\"dataframe\">\n",
       "  <thead>\n",
       "    <tr style=\"text-align: right;\">\n",
       "      <th></th>\n",
       "      <th>구별</th>\n",
       "      <th>인구수</th>\n",
       "      <th>한국인</th>\n",
       "      <th>외국인</th>\n",
       "      <th>고령자</th>\n",
       "    </tr>\n",
       "  </thead>\n",
       "  <tbody>\n",
       "    <tr>\n",
       "      <td>26</td>\n",
       "      <td>NaN</td>\n",
       "      <td>0</td>\n",
       "      <td>0</td>\n",
       "      <td>0</td>\n",
       "      <td>0</td>\n",
       "    </tr>\n",
       "  </tbody>\n",
       "</table>\n",
       "</div>"
      ],
      "text/plain": [
       "     구별  인구수  한국인  외국인  고령자\n",
       "26  NaN    0    0    0    0"
      ]
     },
     "execution_count": 32,
     "metadata": {},
     "output_type": "execute_result"
    }
   ],
   "source": [
    "# 구별데이터의 중복이나 결측치등을 확인\n",
    "people['구별'].unique()\n",
    "people[people['구별'].isnull()]\n"
   ]
  },
  {
   "cell_type": "code",
   "execution_count": 34,
   "metadata": {},
   "outputs": [],
   "source": [
    "# 결측치 삭제하기\n",
    "people.drop([26], inplace = True)"
   ]
  },
  {
   "cell_type": "code",
   "execution_count": 47,
   "metadata": {},
   "outputs": [
    {
     "name": "stdout",
     "output_type": "stream",
     "text": [
      "인구수\n",
      "     구별     인구수     한국인    외국인    고령자\n",
      "24  송파구  671994  665282   6712  77978\n",
      "16  강서구  608361  601696   6665  77381\n",
      "23  강남구  557865  552976   4889  65859\n",
      "11  노원구  555803  551902   3901  75081\n",
      "21  관악구  522292  504445  17847  70807\n",
      "++++++++++++++++++++++++++++++++++++++++++++++++++++++++++++\n",
      "     구별     인구수     한국인    외국인    고령자\n",
      "2    중구  135139  126082   9057  21655\n",
      "1   종로구  164348  154549   9799  26429\n",
      "3   용산구  245411  229909  15502  37238\n",
      "18  금천구  253344  234238  19106  34640\n",
      "4   성동구  314551  306532   8019  41752\n",
      "++++++++++++++++++++++++++++++++++++++++++++++++++++++++++++\n",
      "외국인!\n",
      "      구별     인구수     한국인    외국인    고령자\n",
      "19  영등포구  403988  369128  34860  54704\n",
      "17   구로구  440396  408369  32027  59838\n",
      "18   금천구  253344  234238  19106  34640\n",
      "21   관악구  522292  504445  17847  70807\n",
      "6   동대문구  364962  349308  15654  56284\n",
      "++++++++++++++++++++++++++++++++++++++++++++++++++++++++++++\n",
      "     구별     인구수     한국인   외국인    고령자\n",
      "10  도봉구  345041  342861  2180  54293\n",
      "9   강북구  327511  323862  3649  57002\n",
      "15  양천구  473087  469221  3866  56070\n",
      "11  노원구  555803  551902  3901  75081\n",
      "25  강동구  438225  434027  4198  56983\n",
      "++++++++++++++++++++++++++++++++++++++++++++++++++++++++++++\n",
      "고령자!\n",
      "     구별     인구수     한국인    외국인    고령자\n",
      "24  송파구  671994  665282   6712  77978\n",
      "16  강서구  608361  601696   6665  77381\n",
      "12  은평구  490253  485902   4351  75535\n",
      "11  노원구  555803  551902   3901  75081\n",
      "21  관악구  522292  504445  17847  70807\n",
      "++++++++++++++++++++++++++++++++++++++++++++++++++++++++++++\n",
      "     구별     인구수     한국인    외국인    고령자\n",
      "2    중구  135139  126082   9057  21655\n",
      "1   종로구  164348  154549   9799  26429\n",
      "18  금천구  253344  234238  19106  34640\n",
      "3   용산구  245411  229909  15502  37238\n",
      "4   성동구  314551  306532   8019  41752\n"
     ]
    }
   ],
   "source": [
    "# 어느 구가 인구수가 가장 많은가? 적은가?\n",
    "\n",
    "print('인구수')\n",
    "print(people.sort_values(by = '인구수', ascending = False).head())\n",
    "print('+'*60)\n",
    "print(people.sort_values(by = '인구수').head())\n",
    "print('+'*60)\n",
    "print('외국인!')\n",
    "print(people.sort_values(by = '외국인', ascending = False).head())\n",
    "print('+'*60)\n",
    "print(people.sort_values(by = '외국인').head())\n",
    "print('+'*60)\n",
    "print('고령자!')\n",
    "print(people.sort_values(by = '고령자', ascending = False).head())\n",
    "print('+'*60)\n",
    "print(people.sort_values(by = '고령자').head())\n"
   ]
  },
  {
   "cell_type": "code",
   "execution_count": 51,
   "metadata": {},
   "outputs": [
    {
     "data": {
      "text/html": [
       "<div>\n",
       "<style scoped>\n",
       "    .dataframe tbody tr th:only-of-type {\n",
       "        vertical-align: middle;\n",
       "    }\n",
       "\n",
       "    .dataframe tbody tr th {\n",
       "        vertical-align: top;\n",
       "    }\n",
       "\n",
       "    .dataframe thead th {\n",
       "        text-align: right;\n",
       "    }\n",
       "</style>\n",
       "<table border=\"1\" class=\"dataframe\">\n",
       "  <thead>\n",
       "    <tr style=\"text-align: right;\">\n",
       "      <th></th>\n",
       "      <th>구별</th>\n",
       "      <th>인구수</th>\n",
       "      <th>한국인</th>\n",
       "      <th>외국인</th>\n",
       "      <th>고령자</th>\n",
       "      <th>외국인비율</th>\n",
       "      <th>고령자비율</th>\n",
       "    </tr>\n",
       "  </thead>\n",
       "  <tbody>\n",
       "    <tr>\n",
       "      <td>1</td>\n",
       "      <td>종로구</td>\n",
       "      <td>164348</td>\n",
       "      <td>154549</td>\n",
       "      <td>9799</td>\n",
       "      <td>26429</td>\n",
       "      <td>5.96</td>\n",
       "      <td>16.08</td>\n",
       "    </tr>\n",
       "    <tr>\n",
       "      <td>2</td>\n",
       "      <td>중구</td>\n",
       "      <td>135139</td>\n",
       "      <td>126082</td>\n",
       "      <td>9057</td>\n",
       "      <td>21655</td>\n",
       "      <td>6.70</td>\n",
       "      <td>16.02</td>\n",
       "    </tr>\n",
       "    <tr>\n",
       "      <td>3</td>\n",
       "      <td>용산구</td>\n",
       "      <td>245411</td>\n",
       "      <td>229909</td>\n",
       "      <td>15502</td>\n",
       "      <td>37238</td>\n",
       "      <td>6.32</td>\n",
       "      <td>15.17</td>\n",
       "    </tr>\n",
       "    <tr>\n",
       "      <td>4</td>\n",
       "      <td>성동구</td>\n",
       "      <td>314551</td>\n",
       "      <td>306532</td>\n",
       "      <td>8019</td>\n",
       "      <td>41752</td>\n",
       "      <td>2.55</td>\n",
       "      <td>13.27</td>\n",
       "    </tr>\n",
       "    <tr>\n",
       "      <td>5</td>\n",
       "      <td>광진구</td>\n",
       "      <td>371671</td>\n",
       "      <td>357149</td>\n",
       "      <td>14522</td>\n",
       "      <td>44470</td>\n",
       "      <td>3.91</td>\n",
       "      <td>11.96</td>\n",
       "    </tr>\n",
       "  </tbody>\n",
       "</table>\n",
       "</div>"
      ],
      "text/plain": [
       "    구별     인구수     한국인    외국인    고령자  외국인비율  고령자비율\n",
       "1  종로구  164348  154549   9799  26429   5.96  16.08\n",
       "2   중구  135139  126082   9057  21655   6.70  16.02\n",
       "3  용산구  245411  229909  15502  37238   6.32  15.17\n",
       "4  성동구  314551  306532   8019  41752   2.55  13.27\n",
       "5  광진구  371671  357149  14522  44470   3.91  11.96"
      ]
     },
     "execution_count": 51,
     "metadata": {},
     "output_type": "execute_result"
    }
   ],
   "source": [
    "# 외국인 비율, 고령자 비율 컬럼 추가 후 순위 확인\n",
    "people['외국인비율'] = round(people.loc[:,'외국인']/people.loc[:,'인구수']*100, 2)\n",
    "people['고령자비율'] = round(people.loc[:,'고령자']/people.loc[:,'인구수']*100, 2)\n",
    "\n",
    "people.head()"
   ]
  },
  {
   "cell_type": "code",
   "execution_count": 52,
   "metadata": {},
   "outputs": [
    {
     "name": "stdout",
     "output_type": "stream",
     "text": [
      "외국인!\n",
      "      구별     인구수     한국인    외국인    고령자  외국인비율  고령자비율\n",
      "19  영등포구  403988  369128  34860  54704   8.63  13.54\n",
      "18   금천구  253344  234238  19106  34640   7.54  13.67\n",
      "17   구로구  440396  408369  32027  59838   7.27  13.59\n",
      "2     중구  135139  126082   9057  21655   6.70  16.02\n",
      "3    용산구  245411  229909  15502  37238   6.32  15.17\n",
      "++++++++++++++++++++++++++++++++++++++++++++++++++++++++++++\n",
      "     구별     인구수     한국인   외국인    고령자  외국인비율  고령자비율\n",
      "10  도봉구  345041  342861  2180  54293   0.63  15.74\n",
      "11  노원구  555803  551902  3901  75081   0.70  13.51\n",
      "15  양천구  473087  469221  3866  56070   0.82  11.85\n",
      "23  강남구  557865  552976  4889  65859   0.88  11.81\n",
      "12  은평구  490253  485902  4351  75535   0.89  15.41\n",
      "++++++++++++++++++++++++++++++++++++++++++++++++++++++++++++\n",
      "고령자!\n",
      "      구별     인구수     한국인    외국인    고령자  외국인비율  고령자비율\n",
      "9    강북구  327511  323862   3649  57002   1.11  17.40\n",
      "1    종로구  164348  154549   9799  26429   5.96  16.08\n",
      "2     중구  135139  126082   9057  21655   6.70  16.02\n",
      "10   도봉구  345041  342861   2180  54293   0.63  15.74\n",
      "6   동대문구  364962  349308  15654  56284   4.29  15.42\n",
      "++++++++++++++++++++++++++++++++++++++++++++++++++++++++++++\n",
      "     구별     인구수     한국인    외국인    고령자  외국인비율  고령자비율\n",
      "24  송파구  671994  665282   6712  77978   1.00  11.60\n",
      "23  강남구  557865  552976   4889  65859   0.88  11.81\n",
      "15  양천구  473087  469221   3866  56070   0.82  11.85\n",
      "5   광진구  371671  357149  14522  44470   3.91  11.96\n",
      "22  서초구  445164  440954   4210  54055   0.95  12.14\n"
     ]
    }
   ],
   "source": [
    "# 전체 인구 대비 외국인, 고령자 수의 순위\n",
    "print('외국인!')\n",
    "print(people.sort_values(by = '외국인비율', ascending = False).head())\n",
    "print('+'*60)\n",
    "print(people.sort_values(by = '외국인비율').head())\n",
    "print('+'*60)\n",
    "print('고령자!')\n",
    "print(people.sort_values(by = '고령자비율', ascending = False).head())\n",
    "print('+'*60)\n",
    "print(people.sort_values(by = '고령자비율').head())\n"
   ]
  },
  {
   "cell_type": "code",
   "execution_count": 54,
   "metadata": {},
   "outputs": [
    {
     "data": {
      "text/html": [
       "<div>\n",
       "<style scoped>\n",
       "    .dataframe tbody tr th:only-of-type {\n",
       "        vertical-align: middle;\n",
       "    }\n",
       "\n",
       "    .dataframe tbody tr th {\n",
       "        vertical-align: top;\n",
       "    }\n",
       "\n",
       "    .dataframe thead th {\n",
       "        text-align: right;\n",
       "    }\n",
       "</style>\n",
       "<table border=\"1\" class=\"dataframe\">\n",
       "  <thead>\n",
       "    <tr style=\"text-align: right;\">\n",
       "      <th></th>\n",
       "      <th>구별</th>\n",
       "      <th>소계</th>\n",
       "      <th>2013년도 이전</th>\n",
       "      <th>2014년</th>\n",
       "      <th>2015년</th>\n",
       "      <th>2016년</th>\n",
       "      <th>최근 증가율</th>\n",
       "      <th>인구수</th>\n",
       "      <th>한국인</th>\n",
       "      <th>외국인</th>\n",
       "      <th>고령자</th>\n",
       "      <th>외국인비율</th>\n",
       "      <th>고령자비율</th>\n",
       "    </tr>\n",
       "  </thead>\n",
       "  <tbody>\n",
       "    <tr>\n",
       "      <td>0</td>\n",
       "      <td>강남구</td>\n",
       "      <td>3238</td>\n",
       "      <td>1292</td>\n",
       "      <td>430</td>\n",
       "      <td>584</td>\n",
       "      <td>932</td>\n",
       "      <td>150.62</td>\n",
       "      <td>557865</td>\n",
       "      <td>552976</td>\n",
       "      <td>4889</td>\n",
       "      <td>65859</td>\n",
       "      <td>0.88</td>\n",
       "      <td>11.81</td>\n",
       "    </tr>\n",
       "    <tr>\n",
       "      <td>1</td>\n",
       "      <td>강동구</td>\n",
       "      <td>1010</td>\n",
       "      <td>379</td>\n",
       "      <td>99</td>\n",
       "      <td>155</td>\n",
       "      <td>377</td>\n",
       "      <td>166.49</td>\n",
       "      <td>438225</td>\n",
       "      <td>434027</td>\n",
       "      <td>4198</td>\n",
       "      <td>56983</td>\n",
       "      <td>0.96</td>\n",
       "      <td>13.00</td>\n",
       "    </tr>\n",
       "    <tr>\n",
       "      <td>2</td>\n",
       "      <td>강북구</td>\n",
       "      <td>831</td>\n",
       "      <td>369</td>\n",
       "      <td>120</td>\n",
       "      <td>138</td>\n",
       "      <td>204</td>\n",
       "      <td>125.20</td>\n",
       "      <td>327511</td>\n",
       "      <td>323862</td>\n",
       "      <td>3649</td>\n",
       "      <td>57002</td>\n",
       "      <td>1.11</td>\n",
       "      <td>17.40</td>\n",
       "    </tr>\n",
       "    <tr>\n",
       "      <td>3</td>\n",
       "      <td>강서구</td>\n",
       "      <td>911</td>\n",
       "      <td>388</td>\n",
       "      <td>258</td>\n",
       "      <td>184</td>\n",
       "      <td>81</td>\n",
       "      <td>134.79</td>\n",
       "      <td>608361</td>\n",
       "      <td>601696</td>\n",
       "      <td>6665</td>\n",
       "      <td>77381</td>\n",
       "      <td>1.10</td>\n",
       "      <td>12.72</td>\n",
       "    </tr>\n",
       "    <tr>\n",
       "      <td>4</td>\n",
       "      <td>관악구</td>\n",
       "      <td>2109</td>\n",
       "      <td>846</td>\n",
       "      <td>260</td>\n",
       "      <td>390</td>\n",
       "      <td>613</td>\n",
       "      <td>149.29</td>\n",
       "      <td>522292</td>\n",
       "      <td>504445</td>\n",
       "      <td>17847</td>\n",
       "      <td>70807</td>\n",
       "      <td>3.42</td>\n",
       "      <td>13.56</td>\n",
       "    </tr>\n",
       "  </tbody>\n",
       "</table>\n",
       "</div>"
      ],
      "text/plain": [
       "    구별    소계  2013년도 이전  2014년  2015년  2016년  최근 증가율     인구수     한국인    외국인  \\\n",
       "0  강남구  3238       1292    430    584    932  150.62  557865  552976   4889   \n",
       "1  강동구  1010        379     99    155    377  166.49  438225  434027   4198   \n",
       "2  강북구   831        369    120    138    204  125.20  327511  323862   3649   \n",
       "3  강서구   911        388    258    184     81  134.79  608361  601696   6665   \n",
       "4  관악구  2109        846    260    390    613  149.29  522292  504445  17847   \n",
       "\n",
       "     고령자  외국인비율  고령자비율  \n",
       "0  65859   0.88  11.81  \n",
       "1  56983   0.96  13.00  \n",
       "2  57002   1.11  17.40  \n",
       "3  77381   1.10  12.72  \n",
       "4  70807   3.42  13.56  "
      ]
     },
     "execution_count": 54,
     "metadata": {},
     "output_type": "execute_result"
    }
   ],
   "source": [
    "#CCTV 데이터와 인구대비 데이터를 병합, 분석\n",
    "data_result = pd.merge(cctv, people, on = '구별')\n",
    "data_result.head()"
   ]
  },
  {
   "cell_type": "code",
   "execution_count": 55,
   "metadata": {},
   "outputs": [],
   "source": [
    "# 데이터 정리(필요없는 컬럼 삭제) : 2013년도 이전, 2014년, 2015년, 2016년\n",
    "del data_result['2013년도 이전']\n",
    "del data_result['2014년']\n",
    "del data_result['2015년']\n",
    "del data_result['2016년']"
   ]
  },
  {
   "cell_type": "code",
   "execution_count": 56,
   "metadata": {},
   "outputs": [
    {
     "data": {
      "text/html": [
       "<div>\n",
       "<style scoped>\n",
       "    .dataframe tbody tr th:only-of-type {\n",
       "        vertical-align: middle;\n",
       "    }\n",
       "\n",
       "    .dataframe tbody tr th {\n",
       "        vertical-align: top;\n",
       "    }\n",
       "\n",
       "    .dataframe thead th {\n",
       "        text-align: right;\n",
       "    }\n",
       "</style>\n",
       "<table border=\"1\" class=\"dataframe\">\n",
       "  <thead>\n",
       "    <tr style=\"text-align: right;\">\n",
       "      <th></th>\n",
       "      <th>구별</th>\n",
       "      <th>소계</th>\n",
       "      <th>최근 증가율</th>\n",
       "      <th>인구수</th>\n",
       "      <th>한국인</th>\n",
       "      <th>외국인</th>\n",
       "      <th>고령자</th>\n",
       "      <th>외국인비율</th>\n",
       "      <th>고령자비율</th>\n",
       "    </tr>\n",
       "  </thead>\n",
       "  <tbody>\n",
       "    <tr>\n",
       "      <td>0</td>\n",
       "      <td>강남구</td>\n",
       "      <td>3238</td>\n",
       "      <td>150.62</td>\n",
       "      <td>557865</td>\n",
       "      <td>552976</td>\n",
       "      <td>4889</td>\n",
       "      <td>65859</td>\n",
       "      <td>0.88</td>\n",
       "      <td>11.81</td>\n",
       "    </tr>\n",
       "    <tr>\n",
       "      <td>1</td>\n",
       "      <td>강동구</td>\n",
       "      <td>1010</td>\n",
       "      <td>166.49</td>\n",
       "      <td>438225</td>\n",
       "      <td>434027</td>\n",
       "      <td>4198</td>\n",
       "      <td>56983</td>\n",
       "      <td>0.96</td>\n",
       "      <td>13.00</td>\n",
       "    </tr>\n",
       "    <tr>\n",
       "      <td>2</td>\n",
       "      <td>강북구</td>\n",
       "      <td>831</td>\n",
       "      <td>125.20</td>\n",
       "      <td>327511</td>\n",
       "      <td>323862</td>\n",
       "      <td>3649</td>\n",
       "      <td>57002</td>\n",
       "      <td>1.11</td>\n",
       "      <td>17.40</td>\n",
       "    </tr>\n",
       "    <tr>\n",
       "      <td>3</td>\n",
       "      <td>강서구</td>\n",
       "      <td>911</td>\n",
       "      <td>134.79</td>\n",
       "      <td>608361</td>\n",
       "      <td>601696</td>\n",
       "      <td>6665</td>\n",
       "      <td>77381</td>\n",
       "      <td>1.10</td>\n",
       "      <td>12.72</td>\n",
       "    </tr>\n",
       "    <tr>\n",
       "      <td>4</td>\n",
       "      <td>관악구</td>\n",
       "      <td>2109</td>\n",
       "      <td>149.29</td>\n",
       "      <td>522292</td>\n",
       "      <td>504445</td>\n",
       "      <td>17847</td>\n",
       "      <td>70807</td>\n",
       "      <td>3.42</td>\n",
       "      <td>13.56</td>\n",
       "    </tr>\n",
       "  </tbody>\n",
       "</table>\n",
       "</div>"
      ],
      "text/plain": [
       "    구별    소계  최근 증가율     인구수     한국인    외국인    고령자  외국인비율  고령자비율\n",
       "0  강남구  3238  150.62  557865  552976   4889  65859   0.88  11.81\n",
       "1  강동구  1010  166.49  438225  434027   4198  56983   0.96  13.00\n",
       "2  강북구   831  125.20  327511  323862   3649  57002   1.11  17.40\n",
       "3  강서구   911  134.79  608361  601696   6665  77381   1.10  12.72\n",
       "4  관악구  2109  149.29  522292  504445  17847  70807   3.42  13.56"
      ]
     },
     "execution_count": 56,
     "metadata": {},
     "output_type": "execute_result"
    }
   ],
   "source": [
    "data_result.head()"
   ]
  },
  {
   "cell_type": "code",
   "execution_count": 61,
   "metadata": {},
   "outputs": [
    {
     "data": {
      "text/html": [
       "<div>\n",
       "<style scoped>\n",
       "    .dataframe tbody tr th:only-of-type {\n",
       "        vertical-align: middle;\n",
       "    }\n",
       "\n",
       "    .dataframe tbody tr th {\n",
       "        vertical-align: top;\n",
       "    }\n",
       "\n",
       "    .dataframe thead th {\n",
       "        text-align: right;\n",
       "    }\n",
       "</style>\n",
       "<table border=\"1\" class=\"dataframe\">\n",
       "  <thead>\n",
       "    <tr style=\"text-align: right;\">\n",
       "      <th></th>\n",
       "      <th>소계</th>\n",
       "      <th>최근 증가율</th>\n",
       "      <th>인구수</th>\n",
       "      <th>한국인</th>\n",
       "      <th>외국인</th>\n",
       "      <th>고령자</th>\n",
       "      <th>외국인비율</th>\n",
       "      <th>고령자비율</th>\n",
       "    </tr>\n",
       "    <tr>\n",
       "      <th>구별</th>\n",
       "      <th></th>\n",
       "      <th></th>\n",
       "      <th></th>\n",
       "      <th></th>\n",
       "      <th></th>\n",
       "      <th></th>\n",
       "      <th></th>\n",
       "      <th></th>\n",
       "    </tr>\n",
       "  </thead>\n",
       "  <tbody>\n",
       "    <tr>\n",
       "      <td>강남구</td>\n",
       "      <td>3238</td>\n",
       "      <td>150.62</td>\n",
       "      <td>557865</td>\n",
       "      <td>552976</td>\n",
       "      <td>4889</td>\n",
       "      <td>65859</td>\n",
       "      <td>0.88</td>\n",
       "      <td>11.81</td>\n",
       "    </tr>\n",
       "    <tr>\n",
       "      <td>강동구</td>\n",
       "      <td>1010</td>\n",
       "      <td>166.49</td>\n",
       "      <td>438225</td>\n",
       "      <td>434027</td>\n",
       "      <td>4198</td>\n",
       "      <td>56983</td>\n",
       "      <td>0.96</td>\n",
       "      <td>13.00</td>\n",
       "    </tr>\n",
       "    <tr>\n",
       "      <td>강북구</td>\n",
       "      <td>831</td>\n",
       "      <td>125.20</td>\n",
       "      <td>327511</td>\n",
       "      <td>323862</td>\n",
       "      <td>3649</td>\n",
       "      <td>57002</td>\n",
       "      <td>1.11</td>\n",
       "      <td>17.40</td>\n",
       "    </tr>\n",
       "    <tr>\n",
       "      <td>강서구</td>\n",
       "      <td>911</td>\n",
       "      <td>134.79</td>\n",
       "      <td>608361</td>\n",
       "      <td>601696</td>\n",
       "      <td>6665</td>\n",
       "      <td>77381</td>\n",
       "      <td>1.10</td>\n",
       "      <td>12.72</td>\n",
       "    </tr>\n",
       "    <tr>\n",
       "      <td>관악구</td>\n",
       "      <td>2109</td>\n",
       "      <td>149.29</td>\n",
       "      <td>522292</td>\n",
       "      <td>504445</td>\n",
       "      <td>17847</td>\n",
       "      <td>70807</td>\n",
       "      <td>3.42</td>\n",
       "      <td>13.56</td>\n",
       "    </tr>\n",
       "  </tbody>\n",
       "</table>\n",
       "</div>"
      ],
      "text/plain": [
       "       소계  최근 증가율     인구수     한국인    외국인    고령자  외국인비율  고령자비율\n",
       "구별                                                           \n",
       "강남구  3238  150.62  557865  552976   4889  65859   0.88  11.81\n",
       "강동구  1010  166.49  438225  434027   4198  56983   0.96  13.00\n",
       "강북구   831  125.20  327511  323862   3649  57002   1.11  17.40\n",
       "강서구   911  134.79  608361  601696   6665  77381   1.10  12.72\n",
       "관악구  2109  149.29  522292  504445  17847  70807   3.42  13.56"
      ]
     },
     "execution_count": 61,
     "metadata": {},
     "output_type": "execute_result"
    }
   ],
   "source": [
    "# 구별 컬럼을 인덱스로!\n",
    "data_result.set_index('구별', inplace = True)\n",
    "\n",
    "data_result.head()"
   ]
  },
  {
   "cell_type": "code",
   "execution_count": 64,
   "metadata": {},
   "outputs": [
    {
     "data": {
      "text/plain": [
       "array([[1.        , 0.23037183],\n",
       "       [0.23037183, 1.        ]])"
      ]
     },
     "execution_count": 64,
     "metadata": {},
     "output_type": "execute_result"
    }
   ],
   "source": [
    "# CCTV의 소계가 인구데이터 중 어느 변수와 관계가 있는지 확인(상관관계)\n",
    "# 상관계수 : -1 ~ 1\n",
    "#0.3 이하 : 약한 상관관계\n",
    "# 0.7 이하 : 뚜렷한 상관관계\n",
    "\n",
    "np.corrcoef(data_result['고령자비율'], data_result['소계'])\n",
    "np.corrcoef(data_result['외국인비율'], data_result['소계'])\n",
    "np.corrcoef(data_result['인구수'], data_result['소계'])"
   ]
  },
  {
   "cell_type": "code",
   "execution_count": 68,
   "metadata": {},
   "outputs": [
    {
     "name": "stdout",
     "output_type": "stream",
     "text": [
      "       소계  최근 증가율     인구수     한국인    외국인    고령자  외국인비율  고령자비율\n",
      "구별                                                           \n",
      "강남구  3238  150.62  557865  552976   4889  65859   0.88  11.81\n",
      "양천구  2482   34.67  473087  469221   3866  56070   0.82  11.85\n",
      "서초구  2297   63.37  445164  440954   4210  54055   0.95  12.14\n",
      "관악구  2109  149.29  522292  504445  17847  70807   3.42  13.56\n",
      "은평구  2108   85.24  490253  485902   4351  75535   0.89  15.41\n",
      "++++++++++++++++++++++++++++++++++++++++++++++++++++++++++++\n",
      "       소계  최근 증가율     인구수     한국인    외국인    고령자  외국인비율  고령자비율\n",
      "구별                                                           \n",
      "송파구  1081  104.35  671994  665282   6712  77978   1.00  11.60\n",
      "강서구   911  134.79  608361  601696   6665  77381   1.10  12.72\n",
      "강남구  3238  150.62  557865  552976   4889  65859   0.88  11.81\n",
      "노원구  1566  188.93  555803  551902   3901  75081   0.70  13.51\n",
      "관악구  2109  149.29  522292  504445  17847  70807   3.42  13.56\n",
      "++++++++++++++++++++++++++++++++++++++++++++++++++++++++++++\n",
      "       소계  최근 증가율     인구수     한국인    외국인    고령자  외국인비율  고령자비율\n",
      "구별                                                           \n",
      "중구   1023  147.70  135139  126082   9057  21655   6.70  16.02\n",
      "종로구  1619  248.92  164348  154549   9799  26429   5.96  16.08\n",
      "용산구  2096   53.22  245411  229909  15502  37238   6.32  15.17\n",
      "금천구  1348  100.00  253344  234238  19106  34640   7.54  13.67\n",
      "성동구  1327   81.78  314551  306532   8019  41752   2.55  13.27\n"
     ]
    }
   ],
   "source": [
    "print(data_result.sort_values(by = '소계', ascending = False).head())\n",
    "print('+'*60)\n",
    "print(data_result.sort_values(by = '인구수', ascending = False).head())\n",
    "print('+'*60)\n",
    "print(data_result.sort_values(by = '인구수').head())"
   ]
  },
  {
   "cell_type": "code",
   "execution_count": 70,
   "metadata": {},
   "outputs": [
    {
     "data": {
      "text/html": [
       "<div>\n",
       "<style scoped>\n",
       "    .dataframe tbody tr th:only-of-type {\n",
       "        vertical-align: middle;\n",
       "    }\n",
       "\n",
       "    .dataframe tbody tr th {\n",
       "        vertical-align: top;\n",
       "    }\n",
       "\n",
       "    .dataframe thead th {\n",
       "        text-align: right;\n",
       "    }\n",
       "</style>\n",
       "<table border=\"1\" class=\"dataframe\">\n",
       "  <thead>\n",
       "    <tr style=\"text-align: right;\">\n",
       "      <th></th>\n",
       "      <th>소계</th>\n",
       "      <th>최근 증가율</th>\n",
       "      <th>인구수</th>\n",
       "      <th>한국인</th>\n",
       "      <th>외국인</th>\n",
       "      <th>고령자</th>\n",
       "      <th>외국인비율</th>\n",
       "      <th>고령자비율</th>\n",
       "      <th>CCTV비율</th>\n",
       "    </tr>\n",
       "    <tr>\n",
       "      <th>구별</th>\n",
       "      <th></th>\n",
       "      <th></th>\n",
       "      <th></th>\n",
       "      <th></th>\n",
       "      <th></th>\n",
       "      <th></th>\n",
       "      <th></th>\n",
       "      <th></th>\n",
       "      <th></th>\n",
       "    </tr>\n",
       "  </thead>\n",
       "  <tbody>\n",
       "    <tr>\n",
       "      <td>강남구</td>\n",
       "      <td>3238</td>\n",
       "      <td>150.62</td>\n",
       "      <td>557865</td>\n",
       "      <td>552976</td>\n",
       "      <td>4889</td>\n",
       "      <td>65859</td>\n",
       "      <td>0.88</td>\n",
       "      <td>11.81</td>\n",
       "      <td>0.58</td>\n",
       "    </tr>\n",
       "    <tr>\n",
       "      <td>강동구</td>\n",
       "      <td>1010</td>\n",
       "      <td>166.49</td>\n",
       "      <td>438225</td>\n",
       "      <td>434027</td>\n",
       "      <td>4198</td>\n",
       "      <td>56983</td>\n",
       "      <td>0.96</td>\n",
       "      <td>13.00</td>\n",
       "      <td>0.23</td>\n",
       "    </tr>\n",
       "    <tr>\n",
       "      <td>강북구</td>\n",
       "      <td>831</td>\n",
       "      <td>125.20</td>\n",
       "      <td>327511</td>\n",
       "      <td>323862</td>\n",
       "      <td>3649</td>\n",
       "      <td>57002</td>\n",
       "      <td>1.11</td>\n",
       "      <td>17.40</td>\n",
       "      <td>0.25</td>\n",
       "    </tr>\n",
       "    <tr>\n",
       "      <td>강서구</td>\n",
       "      <td>911</td>\n",
       "      <td>134.79</td>\n",
       "      <td>608361</td>\n",
       "      <td>601696</td>\n",
       "      <td>6665</td>\n",
       "      <td>77381</td>\n",
       "      <td>1.10</td>\n",
       "      <td>12.72</td>\n",
       "      <td>0.15</td>\n",
       "    </tr>\n",
       "    <tr>\n",
       "      <td>관악구</td>\n",
       "      <td>2109</td>\n",
       "      <td>149.29</td>\n",
       "      <td>522292</td>\n",
       "      <td>504445</td>\n",
       "      <td>17847</td>\n",
       "      <td>70807</td>\n",
       "      <td>3.42</td>\n",
       "      <td>13.56</td>\n",
       "      <td>0.40</td>\n",
       "    </tr>\n",
       "  </tbody>\n",
       "</table>\n",
       "</div>"
      ],
      "text/plain": [
       "       소계  최근 증가율     인구수     한국인    외국인    고령자  외국인비율  고령자비율  CCTV비율\n",
       "구별                                                                   \n",
       "강남구  3238  150.62  557865  552976   4889  65859   0.88  11.81    0.58\n",
       "강동구  1010  166.49  438225  434027   4198  56983   0.96  13.00    0.23\n",
       "강북구   831  125.20  327511  323862   3649  57002   1.11  17.40    0.25\n",
       "강서구   911  134.79  608361  601696   6665  77381   1.10  12.72    0.15\n",
       "관악구  2109  149.29  522292  504445  17847  70807   3.42  13.56    0.40"
      ]
     },
     "execution_count": 70,
     "metadata": {},
     "output_type": "execute_result"
    }
   ],
   "source": [
    "# cctv 비율 컬럼 추가!!\n",
    "\n",
    "data_result['CCTV비율'] = round((data_result['소계']/data_result['인구수'])*100, 2)\n",
    "data_result.head()"
   ]
  },
  {
   "cell_type": "code",
   "execution_count": 72,
   "metadata": {},
   "outputs": [
    {
     "name": "stdout",
     "output_type": "stream",
     "text": [
      "       소계  최근 증가율     인구수     한국인    외국인    고령자  외국인비율  고령자비율  CCTV비율\n",
      "구별                                                                   \n",
      "강남구  3238  150.62  557865  552976   4889  65859   0.88  11.81    0.58\n",
      "양천구  2482   34.67  473087  469221   3866  56070   0.82  11.85    0.52\n",
      "서초구  2297   63.37  445164  440954   4210  54055   0.95  12.14    0.52\n",
      "관악구  2109  149.29  522292  504445  17847  70807   3.42  13.56    0.40\n",
      "은평구  2108   85.24  490253  485902   4351  75535   0.89  15.41    0.43\n",
      "++++++++++++++++++++++++++++++++++++++++++++++++++++++++++++++++++++++++++++++++\n",
      "       소계  최근 증가율     인구수     한국인    외국인    고령자  외국인비율  고령자비율  CCTV비율\n",
      "구별                                                                   \n",
      "종로구  1619  248.92  164348  154549   9799  26429   5.96  16.08    0.99\n",
      "용산구  2096   53.22  245411  229909  15502  37238   6.32  15.17    0.85\n",
      "중구   1023  147.70  135139  126082   9057  21655   6.70  16.02    0.76\n",
      "강남구  3238  150.62  557865  552976   4889  65859   0.88  11.81    0.58\n",
      "금천구  1348  100.00  253344  234238  19106  34640   7.54  13.67    0.53\n",
      "++++++++++++++++++++++++++++++++++++++++++++++++++++++++++++++++++++++++++++++++\n",
      "       소계  최근 증가율     인구수     한국인   외국인    고령자  외국인비율  고령자비율  CCTV비율\n",
      "구별                                                                  \n",
      "강서구   911  134.79  608361  601696  6665  77381   1.10  12.72    0.15\n",
      "송파구  1081  104.35  671994  665282  6712  77978   1.00  11.60    0.16\n",
      "중랑구   916   79.96  411552  406868  4684  59992   1.14  14.58    0.22\n",
      "강동구  1010  166.49  438225  434027  4198  56983   0.96  13.00    0.23\n",
      "도봉구   825  246.64  345041  342861  2180  54293   0.63  15.74    0.24\n"
     ]
    }
   ],
   "source": [
    "print(data_result.sort_values(by = '소계', ascending = False).head())\n",
    "print('+'*80)\n",
    "print(data_result.sort_values(by = 'CCTV비율', ascending = False).head())\n",
    "print('+'*80)\n",
    "print(data_result.sort_values(by = 'CCTV비율').head())"
   ]
  },
  {
   "cell_type": "markdown",
   "metadata": {},
   "source": [
    "### 4) 시각화"
   ]
  },
  {
   "cell_type": "code",
   "execution_count": 74,
   "metadata": {},
   "outputs": [
    {
     "data": {
      "text/plain": [
       "<matplotlib.axes._subplots.AxesSubplot at 0x1b74253f748>"
      ]
     },
     "execution_count": 74,
     "metadata": {},
     "output_type": "execute_result"
    },
    {
     "data": {
      "image/png": "[encoded data removed]",
      "text/plain": [
       "<Figure size 720x360 with 1 Axes>"
      ]
     },
     "metadata": {
      "needs_background": "light"
     },
     "output_type": "display_data"
    }
   ],
   "source": [
    "# CCTV가 많이 설치된 구별로 그래프 그리기\n",
    "data_result['소계'].plot(kind = 'bar', figsize = (10,5), grid=True)"
   ]
  },
  {
   "cell_type": "code",
   "execution_count": 78,
   "metadata": {},
   "outputs": [
    {
     "data": {
      "text/plain": [
       "<matplotlib.axes._subplots.AxesSubplot at 0x1b742893888>"
      ]
     },
     "execution_count": 78,
     "metadata": {},
     "output_type": "execute_result"
    },
    {
     "data": {
      "image/png": "[encoded data removed]",
      "text/plain": [
       "<Figure size 720x360 with 1 Axes>"
      ]
     },
     "metadata": {
      "needs_background": "light"
     },
     "output_type": "display_data"
    }
   ],
   "source": [
    "# 보기 편하게 정렬후 출력!\n",
    "data_result['소계'].sort_values().plot(kind = 'barh', figsize = (10,5), grid=True)"
   ]
  },
  {
   "cell_type": "code",
   "execution_count": 79,
   "metadata": {},
   "outputs": [
    {
     "data": {
      "text/plain": [
       "<matplotlib.axes._subplots.AxesSubplot at 0x1b74293d308>"
      ]
     },
     "execution_count": 79,
     "metadata": {},
     "output_type": "execute_result"
    },
    {
     "data": {
      "image/png": "[encoded data removed]",
      "text/plain": [
       "<Figure size 720x360 with 1 Axes>"
      ]
     },
     "metadata": {
      "needs_background": "light"
     },
     "output_type": "display_data"
    }
   ],
   "source": [
    "# CCTV 비율을 그래프로\n",
    "\n",
    "data_result['CCTV비율'].sort_values().plot(kind = 'barh', figsize = (10,5), grid=True)"
   ]
  },
  {
   "cell_type": "code",
   "execution_count": 84,
   "metadata": {},
   "outputs": [
    {
     "data": {
      "image/png": "[encoded data removed]",
      "text/plain": [
       "<Figure size 432x432 with 1 Axes>"
      ]
     },
     "metadata": {
      "needs_background": "light"
     },
     "output_type": "display_data"
    }
   ],
   "source": [
    "# CCTV 설치 대수와 인구수의 상관관계를 그래프로 확인\n",
    "plt.figure(figsize = (6,6))\n",
    "plt.scatter(data_result['인구수'], data_result['소계'],s = 70)\n",
    "plt.xlabel('인구수')\n",
    "plt.ylabel('소계')\n",
    "plt.grid() # 눈금선"
   ]
  },
  {
   "cell_type": "code",
   "execution_count": 92,
   "metadata": {},
   "outputs": [
    {
     "name": "stdout",
     "output_type": "stream",
     "text": [
      " \n",
      "1 x + 2\n",
      "   2\n",
      "1 x + 2 x + 3\n",
      "[1.10432363e-03 1.06864009e+03]\n",
      " \n",
      "0.001104 x + 1069\n"
     ]
    }
   ],
   "source": [
    "# poly1d() : 방정식을 만들어주는 함수\n",
    "print(np.poly1d([1,2]))\n",
    "print(np.poly1d([1,2,3]))\n",
    "\n",
    "# polyfit() : 회귀선 작성\n",
    "fp1 = np.polyfit(data_result['인구수'], data_result['소계'], 1)\n",
    "print(fp1)\n",
    "\n",
    "f1 = np.poly1d(fp1)\n",
    "print(f1)\n"
   ]
  },
  {
   "cell_type": "code",
   "execution_count": 98,
   "metadata": {},
   "outputs": [
    {
     "data": {
      "image/png": "[encoded data removed]",
      "text/plain": [
       "<Figure size 432x432 with 1 Axes>"
      ]
     },
     "metadata": {
      "needs_background": "light"
     },
     "output_type": "display_data"
    }
   ],
   "source": [
    "fx = np.linspace(100000,700000, 100)\n",
    "\n",
    "plt.figure(figsize = (6,6))\n",
    "plt.scatter(data_result['인구수'], data_result['소계'],s = 70)\n",
    "#plt.plot(data_result['인구수'], f1(data_result['인구수']), lw = 3, color='g', ls = 'dashed') # 회귀선\n",
    "plt.plot(fx, f1(fx), lw = 3, color='g', ls = 'dashed')\n",
    "plt.xlabel('인구수')\n",
    "plt.ylabel('CCTV소계')\n",
    "plt.grid() # 눈금선"
   ]
  },
  {
   "cell_type": "code",
   "execution_count": 101,
   "metadata": {},
   "outputs": [
    {
     "data": {
      "text/html": [
       "<div>\n",
       "<style scoped>\n",
       "    .dataframe tbody tr th:only-of-type {\n",
       "        vertical-align: middle;\n",
       "    }\n",
       "\n",
       "    .dataframe tbody tr th {\n",
       "        vertical-align: top;\n",
       "    }\n",
       "\n",
       "    .dataframe thead th {\n",
       "        text-align: right;\n",
       "    }\n",
       "</style>\n",
       "<table border=\"1\" class=\"dataframe\">\n",
       "  <thead>\n",
       "    <tr style=\"text-align: right;\">\n",
       "      <th></th>\n",
       "      <th>소계</th>\n",
       "      <th>최근 증가율</th>\n",
       "      <th>인구수</th>\n",
       "      <th>한국인</th>\n",
       "      <th>외국인</th>\n",
       "      <th>고령자</th>\n",
       "      <th>외국인비율</th>\n",
       "      <th>고령자비율</th>\n",
       "      <th>CCTV비율</th>\n",
       "      <th>오차</th>\n",
       "    </tr>\n",
       "    <tr>\n",
       "      <th>구별</th>\n",
       "      <th></th>\n",
       "      <th></th>\n",
       "      <th></th>\n",
       "      <th></th>\n",
       "      <th></th>\n",
       "      <th></th>\n",
       "      <th></th>\n",
       "      <th></th>\n",
       "      <th></th>\n",
       "      <th></th>\n",
       "    </tr>\n",
       "  </thead>\n",
       "  <tbody>\n",
       "    <tr>\n",
       "      <td>강남구</td>\n",
       "      <td>3238</td>\n",
       "      <td>150.62</td>\n",
       "      <td>557865</td>\n",
       "      <td>552976</td>\n",
       "      <td>4889</td>\n",
       "      <td>65859</td>\n",
       "      <td>0.88</td>\n",
       "      <td>11.81</td>\n",
       "      <td>0.58</td>\n",
       "      <td>1553.296412</td>\n",
       "    </tr>\n",
       "    <tr>\n",
       "      <td>강동구</td>\n",
       "      <td>1010</td>\n",
       "      <td>166.49</td>\n",
       "      <td>438225</td>\n",
       "      <td>434027</td>\n",
       "      <td>4198</td>\n",
       "      <td>56983</td>\n",
       "      <td>0.96</td>\n",
       "      <td>13.00</td>\n",
       "      <td>0.23</td>\n",
       "      <td>542.582309</td>\n",
       "    </tr>\n",
       "    <tr>\n",
       "      <td>강북구</td>\n",
       "      <td>831</td>\n",
       "      <td>125.20</td>\n",
       "      <td>327511</td>\n",
       "      <td>323862</td>\n",
       "      <td>3649</td>\n",
       "      <td>57002</td>\n",
       "      <td>1.11</td>\n",
       "      <td>17.40</td>\n",
       "      <td>0.25</td>\n",
       "      <td>599.318223</td>\n",
       "    </tr>\n",
       "    <tr>\n",
       "      <td>강서구</td>\n",
       "      <td>911</td>\n",
       "      <td>134.79</td>\n",
       "      <td>608361</td>\n",
       "      <td>601696</td>\n",
       "      <td>6665</td>\n",
       "      <td>77381</td>\n",
       "      <td>1.10</td>\n",
       "      <td>12.72</td>\n",
       "      <td>0.15</td>\n",
       "      <td>829.467513</td>\n",
       "    </tr>\n",
       "    <tr>\n",
       "      <td>관악구</td>\n",
       "      <td>2109</td>\n",
       "      <td>149.29</td>\n",
       "      <td>522292</td>\n",
       "      <td>504445</td>\n",
       "      <td>17847</td>\n",
       "      <td>70807</td>\n",
       "      <td>3.42</td>\n",
       "      <td>13.56</td>\n",
       "      <td>0.40</td>\n",
       "      <td>463.580517</td>\n",
       "    </tr>\n",
       "  </tbody>\n",
       "</table>\n",
       "</div>"
      ],
      "text/plain": [
       "       소계  최근 증가율     인구수     한국인    외국인    고령자  외국인비율  고령자비율  CCTV비율  \\\n",
       "구별                                                                      \n",
       "강남구  3238  150.62  557865  552976   4889  65859   0.88  11.81    0.58   \n",
       "강동구  1010  166.49  438225  434027   4198  56983   0.96  13.00    0.23   \n",
       "강북구   831  125.20  327511  323862   3649  57002   1.11  17.40    0.25   \n",
       "강서구   911  134.79  608361  601696   6665  77381   1.10  12.72    0.15   \n",
       "관악구  2109  149.29  522292  504445  17847  70807   3.42  13.56    0.40   \n",
       "\n",
       "              오차  \n",
       "구별                \n",
       "강남구  1553.296412  \n",
       "강동구   542.582309  \n",
       "강북구   599.318223  \n",
       "강서구   829.467513  \n",
       "관악구   463.580517  "
      ]
     },
     "execution_count": 101,
     "metadata": {},
     "output_type": "execute_result"
    }
   ],
   "source": [
    "# 각 데이터의 오차를 구해서 '오차' 라는 파생변수 추가\n",
    "data_result['오차'] = np.abs(data_result['소계']- f1(data_result['인구수']))"
   ]
  },
  {
   "cell_type": "code",
   "execution_count": 109,
   "metadata": {},
   "outputs": [
    {
     "data": {
      "text/plain": [
       "Index(['강남구', '양천구', '강서구', '용산구', '서초구', '송파구', '도봉구', '중랑구', '광진구', '강북구',\n",
       "       '강동구', '마포구', '은평구', '관악구', '동대문구', '종로구', '구로구', '영등포구', '동작구', '중구',\n",
       "       '서대문구', '노원구', '성동구', '성북구', '금천구'],\n",
       "      dtype='object', name='구별')"
      ]
     },
     "execution_count": 109,
     "metadata": {},
     "output_type": "execute_result"
    }
   ],
   "source": [
    "df_sort = data_result.sort_values(by = '오차', ascending= False)\n",
    "\n",
    "df_sort.tail()\n",
    "df_sort.index"
   ]
  },
  {
   "cell_type": "code",
   "execution_count": 116,
   "metadata": {},
   "outputs": [
    {
     "data": {
      "image/png": "[encoded data removed]",
      "text/plain": [
       "<Figure size 432x432 with 2 Axes>"
      ]
     },
     "metadata": {
      "needs_background": "light"
     },
     "output_type": "display_data"
    }
   ],
   "source": [
    "\n",
    "plt.figure(figsize = (6,6))\n",
    "plt.scatter(data_result['인구수'], data_result['소계'],s = 70, c = data_result['오차'])\n",
    "plt.plot(fx, f1(fx), lw = 3, color='g', ls = 'dashed')\n",
    "plt.xlabel('인구수')\n",
    "plt.ylabel('CCTV소계')\n",
    "plt.grid() # 눈금선\n",
    "plt.colorbar()\n",
    "\n",
    "\n",
    "#plt.text(df_sort['인구수'][0],df_sort['소계'][0],'강남구')\n",
    "\n",
    "# 반복문을 통해 상위 7개의 데이터에 이름 표기\n",
    "for n in range(7):\n",
    "    plt.text(df_sort['인구수'][n],df_sort['소계'][n],df_sort.index[n], fontsize = 15)\n"
   ]
  },
  {
   "cell_type": "code",
   "execution_count": 117,
   "metadata": {},
   "outputs": [],
   "source": [
    "# 최종 결과물 파일로 저장\n",
    "\n",
    "df_sort.to_csv('C:\\\\Users\\\\acorn\\\\python\\\\analysis\\\\data\\\\seoul\\\\cctv_result_utf.csv', encoding = 'utf-8')\n",
    "df_sort.to_csv('C:\\\\Users\\\\acorn\\\\python\\\\analysis\\\\data\\\\seoul\\\\cctv_result_euc.csv', encoding = 'euc-kr')"
   ]
  },
  {
   "cell_type": "code",
   "execution_count": null,
   "metadata": {},
   "outputs": [],
   "source": []
  }
 ],
 "metadata": {
  "kernelspec": {
   "display_name": "Python 3",
   "language": "python",
   "name": "python3"
  },
  "language_info": {
   "codemirror_mode": {
    "name": "ipython",
    "version": 3
   },
   "file_extension": ".py",
   "mimetype": "text/x-python",
   "name": "python",
   "nbconvert_exporter": "python",
   "pygments_lexer": "ipython3",
   "version": "3.7.4"
  }
 },
 "nbformat": 4,
 "nbformat_minor": 2
}
