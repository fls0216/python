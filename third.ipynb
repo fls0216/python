{
 "cells": [
  {
   "cell_type": "markdown",
   "metadata": {},
   "source": [
    "# 함수\n",
    "### 함수의 정의\n",
    "    - 일정한 작업을 수행하는 단위\n",
    "    - 모듈화의 최소 단위\n",
    "### 함수의 장점\n",
    "    - 반복적인 코드를 없애주어 코드의 길이를 짧게 해준다.\n",
    "    - 프로그램의 유지보수를 쉽게 해준다."
   ]
  },
  {
   "cell_type": "markdown",
   "metadata": {},
   "source": [
    "### 함수 정의"
   ]
  },
  {
   "cell_type": "code",
   "execution_count": 7,
   "metadata": {},
   "outputs": [],
   "source": [
    "def line(i, linetype):\n",
    "    for num in range(i):\n",
    "        print(linetype, end=\"\")\n",
    "    print()"
   ]
  },
  {
   "cell_type": "markdown",
   "metadata": {},
   "source": [
    "### 함수 호출 방식\n",
    "    - 인자가 없는 방식 : 괄호안에 입력할것이 없는 형식\n",
    "    - 인자가 있는 방식 : 괄호 안에 입력할 것이 있는 방식, 함수를 지정할 때의 모양과 같은 모양으로 호출해야한다.\n",
    "    - 반환값이 있는 경우(return) : 복귀할 때 사용\n",
    "        값을 반환(값을 1개만 반환)\n",
    "        함수 강제종료(return이 실행되면 함수가 끝나게 되어 본래 매모리로 돌아간다.)"
   ]
  },
  {
   "cell_type": "code",
   "execution_count": 6,
   "metadata": {},
   "outputs": [
    {
     "name": "stdout",
     "output_type": "stream",
     "text": [
      "----------\n",
      "******************************\n",
      "00000000000000000000\n"
     ]
    }
   ],
   "source": [
    "line(10,\"-\")\n",
    "line(30, \"*\")\n",
    "line(20,\"0\")"
   ]
  },
  {
   "cell_type": "markdown",
   "metadata": {},
   "source": [
    "## 파이썬 내에서 함수 사용하기\n",
    "    - 전역변수 : 전체에서 사용가능\n",
    "    - 지역변수 : 선언된 함수 내에서만 사용가능\n",
    "    - pass : 지금 입력할 내용이 없을 시에 오류가 나지 않고 지나가게 하기 위한 코드\n",
    "    - default 인수 : 인자를 지정해 주지 않아도 기본값이 지정되어 있다면, 지정된 값으로 반환함. 디폴트 인수는 인수들 중 제일 끝에 와야함\n",
    "    - 함수 생성시 지정한 인자의 자리와 변수의 자리가 같다면 인자명이 생략 가능하다.\n",
    "    - 다른위치에 인자 지정시에는 인자명 = 값 형태로 지정해 줄 수 있다.\n",
    "    - 가변인수 : 확실하게 몇개의 인자를 받을지 알 수 없을 때 개수와 상관없이 인자 입력 가능, 인수들 중 제일 끝에 와야한다.튜플로 묶어서 반환된다.\n",
    "    - 함수 내에서 \"*\" 사용시 unpacking 되어 반환된다.\n",
    "    - ** : dict 형식으로 전달가능. 함수내의 인자에 지정시 딕트 형식을 풀어서 반환한다."
   ]
  },
  {
   "cell_type": "markdown",
   "metadata": {},
   "source": [
    "# 연습 문제"
   ]
  },
  {
   "cell_type": "code",
   "execution_count": 8,
   "metadata": {},
   "outputs": [
    {
     "name": "stdout",
     "output_type": "stream",
     "text": [
      "입력해 주세요! :2356\n",
      "16\n",
      "입력해 주세요! :0\n",
      "종료합니다!\n"
     ]
    }
   ],
   "source": [
    "\"\"\"\n",
    "자리수의 합\n",
    "============\n",
    "예를 들어 1234라고 입력했을 경우 (1 + 2 + 3 + 4)를 계산하는 프로그램\n",
    "(0을 입력하면 종료)\n",
    "\"\"\"\n",
    "num=0\n",
    "sum=0\n",
    "\n",
    "def fun(a):\n",
    "    global sum\n",
    "    for i in range(len(a)) :\n",
    "            sum += int(a[i])\n",
    "    return sum\n",
    "\n",
    "\n",
    "\n",
    "while True :\n",
    "    num = input(\"입력해 주세요! :\")\n",
    "    if num == '0':\n",
    "        print(\"종료합니다!\")\n",
    "        break\n",
    "    else :\n",
    "        sum=fun(num)\n",
    "    print(sum)"
   ]
  },
  {
   "cell_type": "code",
   "execution_count": 9,
   "metadata": {},
   "outputs": [
    {
     "name": "stdout",
     "output_type": "stream",
     "text": [
      "가위 바위 보 중 하나를 입력하세요 : 가위\n",
      "컴퓨터 :보\n",
      "사용자가 이겼습니다!\n",
      "가위 바위 보 중 하나를 입력하세요 : x\n"
     ]
    }
   ],
   "source": [
    "\"\"\"\n",
    "가위 바위 보 게임을 반복문을 사용하여 업그레이드\n",
    "(끝나는 조건은 x나 q를 입력하면 종료)\n",
    "\n",
    "끝날 때 결과에 ?승 ?패 출력\n",
    "\"\"\"\n",
    "\n",
    "# 가위 바위 보 프로그램\n",
    "import random\n",
    "\n",
    "rock = {1 : '가위', 2 : \"바위\", 3 : \"보\"}\n",
    "\n",
    "def ran(a,c):\n",
    "    if a == \"보\" :\n",
    "        if c == \"바위\" :\n",
    "            z = print(\"사용자가 이겼습니다!\")\n",
    "        elif c == \"가위\" :\n",
    "             z = print(\"컴퓨터가 이겼습니다.\")\n",
    "        else : z = print(\"비겼습니다.\")\n",
    "    elif a == \"가위\" :\n",
    "        if c == \"보\" :\n",
    "            z = print(\"사용자가 이겼습니다!\")\n",
    "        elif c == \"바위\" :\n",
    "            z = print(\"컴퓨터가 이겼습니다.\")\n",
    "        else : z = print(\"비겼습니다.\")\n",
    "\n",
    "    elif a == \"바위\" :\n",
    "        if c == \"가위\" :\n",
    "            z = print(\"사용자가 이겼습니다!\")\n",
    "        elif c == \"보\" :\n",
    "            z = print(\"컴퓨터가 이겼습니다.\")\n",
    "        else :\n",
    "            z = print(\"비겼습니다.\")\n",
    "    else :\n",
    "        z = print(\"다시 입력해 주세요\")\n",
    "    return z\n",
    "\n",
    "\n",
    "while True:\n",
    "    a = input(\"가위 바위 보 중 하나를 입력하세요 : \")\n",
    "    b = random.randint(1,3)\n",
    "    c = rock[b]\n",
    "    if a == \"x\" or a ==\"q\":\n",
    "        break\n",
    "    else :\n",
    "        print(\"컴퓨터 :{0}\".format(c))\n",
    "        ran(a,c)"
   ]
  },
  {
   "cell_type": "code",
   "execution_count": 11,
   "metadata": {},
   "outputs": [
    {
     "name": "stdout",
     "output_type": "stream",
     "text": [
      "연산자 :+\n",
      "숫자1 :2\n",
      "숫자2 :6\n",
      "결과 : 2.0 + 6.0 = 8.0\n",
      "연산자 :x\n"
     ]
    }
   ],
   "source": [
    "\"\"\"\n",
    "전자 계산기 프로그램을 반복문을 이용해서 업그레이드\n",
    "(끝나는 조건은 연산자에 x를 입력하면 종료)\n",
    "\"\"\"\n",
    "\n",
    "def di(a,b,c):\n",
    "    if a == \"+\" :\n",
    "        z = print(\"결과 : {0} {1} {2} = {3}\".format(b,a,c,b+c))\n",
    "    elif a == \"-\" :\n",
    "        z = print(\"결과 : {0} {1} {2} = {3}\".format(b,a,c,b-c))\n",
    "    elif a== \"*\":\n",
    "        z = print(\"결과 : {0} {1} {2} = {3}\".format(b,a,c,b*c))\n",
    "    elif a==\"/\":\n",
    "        z = print(\"결과 : {0} {1} {2} = {3}\".format(b,a,c,b/c))\n",
    "    return z\n",
    "\n",
    "q = [\"+\",\"-\", \"*\", \"/\"]\n",
    "\n",
    "\n",
    "while True :\n",
    "    a = input(\"연산자 :\")\n",
    "    if a == \"x\":\n",
    "        break\n",
    "    else :\n",
    "        b = float(input(\"숫자1 :\"))\n",
    "        c = float(input(\"숫자2 :\"))\n",
    "        di(a,b,c)\n",
    "  "
   ]
  }
 ],
 "metadata": {
  "kernelspec": {
   "display_name": "Python 3",
   "language": "python",
   "name": "python3"
  },
  "language_info": {
   "codemirror_mode": {
    "name": "ipython",
    "version": 3
   },
   "file_extension": ".py",
   "mimetype": "text/x-python",
   "name": "python",
   "nbconvert_exporter": "python",
   "pygments_lexer": "ipython3",
   "version": "3.7.6"
  }
 },
 "nbformat": 4,
 "nbformat_minor": 4
}
