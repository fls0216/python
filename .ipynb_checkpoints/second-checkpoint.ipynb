{
 "cells": [
  {
   "cell_type": "markdown",
   "metadata": {},
   "source": [
    "# 제어문\n",
    "## 조건문\n",
    "### if"
   ]
  },
  {
   "cell_type": "code",
   "execution_count": 2,
   "metadata": {},
   "outputs": [
    {
     "name": "stdout",
     "output_type": "stream",
     "text": [
      "숫자를 입력하십시오 :5\n",
      "홀수입니다!\n"
     ]
    }
   ],
   "source": [
    "# 기본 조건식\n",
    "a = int(input(\"숫자를 입력하십시오 :\"))\n",
    "b = a%2\n",
    "\n",
    "if b == 1:\n",
    "    print(\"홀수입니다!\")\n",
    "    \n",
    "if b == 0:\n",
    "    print(\"짝수입니다.\")"
   ]
  },
  {
   "cell_type": "code",
   "execution_count": 6,
   "metadata": {},
   "outputs": [
    {
     "name": "stdout",
     "output_type": "stream",
     "text": [
      "숫자를 입력하세요 :6\n",
      "짝수입니다.\n"
     ]
    }
   ],
   "source": [
    "# if ~ else 문\n",
    "\n",
    "a = int(input(\"숫자를 입력하세요 :\"))\n",
    "b = a%2\n",
    "\n",
    "if b == 1:\n",
    "    print(\"홀수입니다.\")\n",
    "else:\n",
    "    print(\"짝수입니다.\")"
   ]
  },
  {
   "cell_type": "code",
   "execution_count": 8,
   "metadata": {},
   "outputs": [
    {
     "name": "stdout",
     "output_type": "stream",
     "text": [
      "A를 입력하세요 :8\n",
      "B를 입력하세요 :7\n",
      "C를 입력하세요 :6\n",
      "a가 가장 큰 수 입니다.\n"
     ]
    }
   ],
   "source": [
    "# 중첩 조건문(Nested)\n",
    "\n",
    "a = int(input(\"A를 입력하세요 :\"))\n",
    "b = int(input(\"B를 입력하세요 :\"))\n",
    "c = int(input(\"C를 입력하세요 :\"))\n",
    "\n",
    "if a > b :\n",
    "    if a >c :\n",
    "        print(\"a가 가장 큰 수 입니다.\")\n",
    "    else :\n",
    "        print(\"c가 가장 큰 수 입니다.\")\n",
    "else :\n",
    "    if b>c:\n",
    "        print(\"b가 가장 큰 수 입니다.\")\n",
    "    else:\n",
    "        print(\"c가 가장 큰 수입니다.\")"
   ]
  },
  {
   "cell_type": "markdown",
   "metadata": {},
   "source": [
    "## 조건문\n",
    "### while\n",
    "    - 조건문이 true 일  경우 무한반복\n",
    "    - 조건식과 카운터로 구성되어있다."
   ]
  },
  {
   "cell_type": "code",
   "execution_count": 11,
   "metadata": {},
   "outputs": [
    {
     "name": "stdout",
     "output_type": "stream",
     "text": [
      "**********"
     ]
    }
   ],
   "source": [
    "# 화면에 *을 10개 출력하라\n",
    "\n",
    "cnt = 0\n",
    "while cnt < 10 :\n",
    "    print(\"*\", end=\"\")\n",
    "    cnt+=1"
   ]
  },
  {
   "cell_type": "markdown",
   "metadata": {},
   "source": [
    "### for\n",
    "    - 카운터 변수가 필요 없음\n",
    "    - while 보다 문법이 간단"
   ]
  },
  {
   "cell_type": "code",
   "execution_count": 18,
   "metadata": {},
   "outputs": [
    {
     "name": "stdout",
     "output_type": "stream",
     "text": [
      "안녕하세요\n",
      "반갑습니다.\n",
      "0\n",
      "3.17\n",
      "True\n",
      "------------------------------\n",
      "안녕하세요\n",
      "반갑습니다.\n",
      "0\n",
      "3.17\n",
      "True\n"
     ]
    }
   ],
   "source": [
    "data = [\"안녕하세요\",\"반갑습니다.\", 0, 3.17, True]\n",
    "\n",
    "cnt = 0\n",
    "while cnt<len(data):\n",
    "    print(data[cnt])\n",
    "    cnt +=1\n",
    "    \n",
    "print(\"-\"*30)\n",
    "\n",
    "for i in data:\n",
    "    print(i)"
   ]
  },
  {
   "cell_type": "markdown",
   "metadata": {},
   "source": [
    "### 반복문의 강제종료\n",
    "    -break : 완전한 종료\n",
    "    -continue : 임시 종료(반복은 계속 진행하지만 조건에 맞는 값을 만났을 때만 일시적으로 종료)"
   ]
  },
  {
   "cell_type": "code",
   "execution_count": 20,
   "metadata": {},
   "outputs": [
    {
     "name": "stdout",
     "output_type": "stream",
     "text": [
      "안녕하세요\n",
      "반갑습니다.\n",
      "------------------------------\n",
      "안녕하세요\n",
      "반갑습니다.\n",
      "3.17\n",
      "True\n"
     ]
    }
   ],
   "source": [
    "data = [\"안녕하세요\",\"반갑습니다.\", 0, 3.17, True]\n",
    "\n",
    "for i in data:\n",
    "    if i == 0:\n",
    "        break\n",
    "    print(i)\n",
    "    \n",
    "print(\"-\"*30)\n",
    "\n",
    "for i in data:\n",
    "    if i == 0:\n",
    "        continue\n",
    "    print(i)"
   ]
  },
  {
   "cell_type": "markdown",
   "metadata": {},
   "source": [
    "### 반복문 중첩"
   ]
  },
  {
   "cell_type": "code",
   "execution_count": 21,
   "metadata": {},
   "outputs": [
    {
     "name": "stdout",
     "output_type": "stream",
     "text": [
      "**********\n",
      "**********\n",
      "**********\n"
     ]
    }
   ],
   "source": [
    "for i in range(3):\n",
    "    for i2 in range(10):\n",
    "        print(\"*\", end=\"\")\n",
    "    print()"
   ]
  },
  {
   "cell_type": "markdown",
   "metadata": {},
   "source": [
    "### 리스트 내포 (List conprehension)\n",
    "    - 리스트 안에 반복문의 값을 저장"
   ]
  },
  {
   "cell_type": "code",
   "execution_count": 22,
   "metadata": {},
   "outputs": [
    {
     "name": "stdout",
     "output_type": "stream",
     "text": [
      "[0, 2, 4, 6, 8]\n"
     ]
    }
   ],
   "source": [
    "a =[]\n",
    "for i in range(10):\n",
    "    if i%2 == 0:\n",
    "        a.append(i)\n",
    "print(a)"
   ]
  }
 ],
 "metadata": {
  "kernelspec": {
   "display_name": "Python 3",
   "language": "python",
   "name": "python3"
  },
  "language_info": {
   "codemirror_mode": {
    "name": "ipython",
    "version": 3
   },
   "file_extension": ".py",
   "mimetype": "text/x-python",
   "name": "python",
   "nbconvert_exporter": "python",
   "pygments_lexer": "ipython3",
   "version": "3.7.6"
  }
 },
 "nbformat": 4,
 "nbformat_minor": 4
}
