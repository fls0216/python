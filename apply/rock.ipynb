{
 "cells": [
  {
   "cell_type": "markdown",
   "metadata": {},
   "source": [
    "# 기본"
   ]
  },
  {
   "cell_type": "code",
   "execution_count": 1,
   "metadata": {},
   "outputs": [
    {
     "name": "stdout",
     "output_type": "stream",
     "text": [
      "가위 바위 보 중 하나를 입력하세요 : 가위\n",
      "컴퓨터 :가위\n",
      "비겼습니다.\n"
     ]
    }
   ],
   "source": [
    "# 가위 바위 보 프로그램\n",
    "import random\n",
    "\n",
    "rock = {1 : '가위', 2 : \"바위\", 3 : \"보\"}\n",
    "a = input(\"가위 바위 보 중 하나를 입력하세요 : \")\n",
    "b = random.randint(1,3)\n",
    "c = rock[b]\n",
    "print(\"컴퓨터 :{0}\".format(c))\n",
    "\n",
    "\n",
    "if a == \"보\" :\n",
    "    if c == \"바위\" :\n",
    "        print(\"사용자가 이겼습니다!\")\n",
    "    elif c == \"가위\" :\n",
    "        print(\"컴퓨터가 이겼습니다.\")\n",
    "    else : print(\"비겼습니다.\")\n",
    "elif a == \"가위\" :\n",
    "    if c == \"보\" :\n",
    "        pirnt(\"사용자가 이겼습니다!\")\n",
    "    elif c == \"바위\" :\n",
    "        print(\"컴퓨터가 이겼습니다.\")\n",
    "    else : print(\"비겼습니다.\")\n",
    "\n",
    "elif a == \"바위\" :\n",
    "    if c == \"가위\" :\n",
    "        print(\"사용자가 이겼습니다!\")\n",
    "    elif c == \"보\" :\n",
    "        print(\"컴퓨터가 이겼습니다.\")\n",
    "    else :\n",
    "        print(\"비겼습니다.\")\n",
    "else :\n",
    "    print(\"다시 입력해 주세요\")\n",
    "\n"
   ]
  },
  {
   "cell_type": "markdown",
   "metadata": {},
   "source": [
    "# while 문을 통해 게임 반복"
   ]
  },
  {
   "cell_type": "code",
   "execution_count": 2,
   "metadata": {},
   "outputs": [
    {
     "name": "stdout",
     "output_type": "stream",
     "text": [
      "가위 바위 보 중 하나를 입력하세요 : 가위\n",
      "가위\n",
      "컴퓨터 :바위\n",
      "컴퓨터가 이겼습니다.\n",
      "가위\n",
      "가위 바위 보 중 하나를 입력하세요 : 바위\n",
      "바위\n",
      "컴퓨터 :바위\n",
      "비겼습니다.\n",
      "바위\n",
      "가위 바위 보 중 하나를 입력하세요 : 보\n",
      "보\n",
      "컴퓨터 :가위\n",
      "컴퓨터가 이겼습니다.\n",
      "보\n",
      "가위 바위 보 중 하나를 입력하세요 : x\n"
     ]
    }
   ],
   "source": [
    "\"\"\"\n",
    "가위 바위 보 게임을 반복문을 사용하여 업그레이드\n",
    "(끝나는 조건은 x나 q를 입력하면 종료)\n",
    "\n",
    "끝날 때 결과에 ?승 ?패 출력\n",
    "\"\"\"\n",
    "\n",
    "# 가위 바위 보 프로그램\n",
    "import random\n",
    "\n",
    "rock = {1 : '가위', 2 : \"바위\", 3 : \"보\"}\n",
    "\n",
    "while True:\n",
    "    a = input(\"가위 바위 보 중 하나를 입력하세요 : \")\n",
    "    if a == \"x\" or a ==\"q\":\n",
    "        break\n",
    "    print(a)\n",
    "    b = random.randint(1,3)\n",
    "    c = rock[b]\n",
    "    print(\"컴퓨터 :{0}\".format(c))\n",
    "    if a == \"보\" :\n",
    "        if c == \"바위\" :\n",
    "            print(\"사용자가 이겼습니다!\")\n",
    "        elif c == \"가위\" :\n",
    "             print(\"컴퓨터가 이겼습니다.\")\n",
    "        else : print(\"비겼습니다.\")\n",
    "    elif a == \"가위\" :\n",
    "        if c == \"보\" :\n",
    "            print(\"사용자가 이겼습니다!\")\n",
    "        elif c == \"바위\" :\n",
    "            print(\"컴퓨터가 이겼습니다.\")\n",
    "        else : print(\"비겼습니다.\")\n",
    "\n",
    "    elif a == \"바위\" :\n",
    "        if c == \"가위\" :\n",
    "            print(\"사용자가 이겼습니다!\")\n",
    "        elif c == \"보\" :\n",
    "            print(\"컴퓨터가 이겼습니다.\")\n",
    "        else :\n",
    "            print(\"비겼습니다.\")\n",
    "    else :\n",
    "        print(\"다시 입력해 주세요\")\n",
    "    print(a)\n",
    "\n",
    "        "
   ]
  },
  {
   "cell_type": "markdown",
   "metadata": {},
   "source": [
    "# 함수화"
   ]
  },
  {
   "cell_type": "code",
   "execution_count": 3,
   "metadata": {},
   "outputs": [
    {
     "name": "stdout",
     "output_type": "stream",
     "text": [
      "가위 바위 보 중 하나를 입력하세요 : 가위\n",
      "컴퓨터 :바위\n",
      "컴퓨터가 이겼습니다.\n",
      "가위 바위 보 중 하나를 입력하세요 : 바위\n",
      "컴퓨터 :바위\n",
      "비겼습니다.\n",
      "가위 바위 보 중 하나를 입력하세요 : 보\n",
      "컴퓨터 :가위\n",
      "컴퓨터가 이겼습니다.\n",
      "가위 바위 보 중 하나를 입력하세요 : x\n"
     ]
    }
   ],
   "source": [
    "\"\"\"\n",
    "가위 바위 보 게임을 반복문을 사용하여 업그레이드\n",
    "(끝나는 조건은 x나 q를 입력하면 종료)\n",
    "\n",
    "끝날 때 결과에 ?승 ?패 출력\n",
    "\"\"\"\n",
    "\n",
    "# 가위 바위 보 프로그램\n",
    "import random\n",
    "\n",
    "rock = {1 : '가위', 2 : \"바위\", 3 : \"보\"}\n",
    "\n",
    "def ran(a,c):\n",
    "    if a == \"보\" :\n",
    "        if c == \"바위\" :\n",
    "            z = print(\"사용자가 이겼습니다!\")\n",
    "        elif c == \"가위\" :\n",
    "             z = print(\"컴퓨터가 이겼습니다.\")\n",
    "        else : z = print(\"비겼습니다.\")\n",
    "    elif a == \"가위\" :\n",
    "        if c == \"보\" :\n",
    "            z = print(\"사용자가 이겼습니다!\")\n",
    "        elif c == \"바위\" :\n",
    "            z = print(\"컴퓨터가 이겼습니다.\")\n",
    "        else : z = print(\"비겼습니다.\")\n",
    "\n",
    "    elif a == \"바위\" :\n",
    "        if c == \"가위\" :\n",
    "            z = print(\"사용자가 이겼습니다!\")\n",
    "        elif c == \"보\" :\n",
    "            z = print(\"컴퓨터가 이겼습니다.\")\n",
    "        else :\n",
    "            z = print(\"비겼습니다.\")\n",
    "    else :\n",
    "        z = print(\"다시 입력해 주세요\")\n",
    "    return z\n",
    "\n",
    "\n",
    "while True:\n",
    "    a = input(\"가위 바위 보 중 하나를 입력하세요 : \")\n",
    "    b = random.randint(1,3)\n",
    "    c = rock[b]\n",
    "    if a == \"x\" or a ==\"q\":\n",
    "        break\n",
    "    else :\n",
    "        print(\"컴퓨터 :{0}\".format(c))\n",
    "        ran(a,c)\n"
   ]
  },
  {
   "cell_type": "markdown",
   "metadata": {},
   "source": [
    "# 승패 출력}"
   ]
  },
  {
   "cell_type": "code",
   "execution_count": 1,
   "metadata": {},
   "outputs": [
    {
     "name": "stdout",
     "output_type": "stream",
     "text": [
      "가위 바위 보 중 하나를 입력하세요(종료 : X or Q) : 가위\n",
      "컴퓨터 :보\n",
      "사용자가 이겼습니다!\n",
      "승 :1 패 :0\n",
      "가위 바위 보 중 하나를 입력하세요(종료 : X or Q) : 바위\n",
      "컴퓨터 :보\n",
      "컴퓨터가 이겼습니다.\n",
      "승 :1 패 :1\n",
      "가위 바위 보 중 하나를 입력하세요(종료 : X or Q) : 보\n",
      "컴퓨터 :가위\n",
      "컴퓨터가 이겼습니다.\n",
      "승 :1 패 :2\n",
      "가위 바위 보 중 하나를 입력하세요(종료 : X or Q) : x\n"
     ]
    }
   ],
   "source": [
    "\"\"\"\n",
    "가위 바위 보 게임을 반복문을 사용하여 업그레이드\n",
    "(끝나는 조건은 x나 q를 입력하면 종료)\n",
    "\n",
    "끝날 때 결과에 ?승 ?패 출력\n",
    "\"\"\"\n",
    "\n",
    "# 가위 바위 보 프로그램\n",
    "import random\n",
    "\n",
    "rock = {1 : '가위', 2 : \"바위\", 3 : \"보\"}\n",
    "\n",
    "win = 0\n",
    "lose = 0\n",
    "\n",
    "def ran(a,c):\n",
    "    global win\n",
    "    global lose\n",
    "    if a == \"보\" :\n",
    "        if c == \"바위\" :\n",
    "            z = print(\"사용자가 이겼습니다!\")\n",
    "            win += 1\n",
    "        elif c == \"가위\" :\n",
    "            lose+=1\n",
    "            z = print(\"컴퓨터가 이겼습니다.\")\n",
    "        else : z = print(\"비겼습니다.\")\n",
    "    elif a == \"가위\" :\n",
    "        if c == \"보\" :\n",
    "            z = print(\"사용자가 이겼습니다!\")\n",
    "            win += 1\n",
    "        elif c == \"바위\" :\n",
    "            z = print(\"컴퓨터가 이겼습니다.\")\n",
    "            lose+=1\n",
    "        else : z = print(\"비겼습니다.\")\n",
    "\n",
    "    elif a == \"바위\" :\n",
    "        if c == \"가위\" :\n",
    "            z = print(\"사용자가 이겼습니다!\")\n",
    "            win += 1\n",
    "        elif c == \"보\" :\n",
    "            z = print(\"컴퓨터가 이겼습니다.\")\n",
    "            lose+=1\n",
    "        else :\n",
    "            z = print(\"비겼습니다.\")\n",
    "    else :\n",
    "        z = print(\"다시 입력해 주세요\")\n",
    "    return z\n",
    "\n",
    "\n",
    "while True:\n",
    "    a = input(\"가위 바위 보 중 하나를 입력하세요(종료 : X or Q) : \")\n",
    "    b = random.randint(1,3)\n",
    "    c = rock[b]\n",
    "    if a == \"x\" or a ==\"q\":\n",
    "        break\n",
    "    else :\n",
    "        print(\"컴퓨터 :{0}\".format(c))\n",
    "        ran(a,c)\n",
    "        print(\"승 :{0} 패 :{1}\".format(win,lose))"
   ]
  }
 ],
 "metadata": {
  "kernelspec": {
   "display_name": "Python 3",
   "language": "python",
   "name": "python3"
  },
  "language_info": {
   "codemirror_mode": {
    "name": "ipython",
    "version": 3
   },
   "file_extension": ".py",
   "mimetype": "text/x-python",
   "name": "python",
   "nbconvert_exporter": "python",
   "pygments_lexer": "ipython3",
   "version": "3.7.6"
  }
 },
 "nbformat": 4,
 "nbformat_minor": 2
}
